{
 "cells": [
  {
   "cell_type": "markdown",
   "metadata": {
    "id": "Vzpzj6tcwgmn"
   },
   "source": [
    "### Load Library ###"
   ]
  },
  {
   "cell_type": "code",
   "execution_count": 1,
   "metadata": {
    "colab": {
     "base_uri": "https://localhost:8080/"
    },
    "executionInfo": {
     "elapsed": 37173,
     "status": "ok",
     "timestamp": 1657768553599,
     "user": {
      "displayName": "谢斯棋",
      "userId": "13460657872157698438"
     },
     "user_tz": 240
    },
    "id": "T97sCXN8jfFo",
    "outputId": "f71fda91-4303-4e4f-a657-a918d4ff0fbc"
   },
   "outputs": [],
   "source": [
    "import sys\n",
    "import os\n",
    "import numpy as np\n",
    "import torch\n",
    "import matplotlib.pyplot as plt"
   ]
  },
  {
   "cell_type": "markdown",
   "metadata": {
    "id": "WqzHjz0l-VVE"
   },
   "source": [
    "### Set Up Dataset ###\n",
    "Download nuScenes dataset and uncompress it."
   ]
  },
  {
   "cell_type": "code",
   "execution_count": 2,
   "metadata": {
    "colab": {
     "base_uri": "https://localhost:8080/"
    },
    "executionInfo": {
     "elapsed": 57195,
     "status": "ok",
     "timestamp": 1657656999013,
     "user": {
      "displayName": "谢斯棋",
      "userId": "13460657872157698438"
     },
     "user_tz": 240
    },
    "id": "mP_iQzGb-lcY",
    "outputId": "58b24fc0-6114-482b-e6fb-e178c0335a5b"
   },
   "outputs": [
    {
     "name": "stdout",
     "output_type": "stream",
     "text": [
      "======\n",
      "Loading nuImages tables for version v1.0-train...\n",
      "Loaded 12 attribute(s) in 0.015s,\n",
      "Loaded 2022 calibrated_sensor(s) in 0.073s,\n",
      "Loaded 25 category(s) in 0.000s,\n",
      "Loaded 872181 ego_pose(s) in 7.313s,\n",
      "Loaded 350 log(s) in 0.018s,\n",
      "Loaded 557715 object_ann(s) in 5.346s,\n",
      "Loaded 67279 sample(s) in 0.157s,\n",
      "Loaded 872181 sample_data(s) in 4.993s,\n",
      "Loaded 6 sensor(s) in 0.001s,\n",
      "Loaded 73755 surface_ann(s) in 3.166s,\n",
      "Done loading in 21.081 seconds (lazy=False).\n",
      "======\n",
      "======\n",
      "Loading nuImages tables for version v1.0-val...\n",
      "Loaded 12 attribute(s) in 0.000s,\n",
      "Loaded 464 calibrated_sensor(s) in 0.014s,\n",
      "Loaded 25 category(s) in 0.000s,\n",
      "Loaded 213185 ego_pose(s) in 1.392s,\n",
      "Loaded 82 log(s) in 0.018s,\n",
      "Loaded 136074 object_ann(s) in 1.722s,\n",
      "Loaded 16445 sample(s) in 0.057s,\n",
      "Loaded 213185 sample_data(s) in 1.221s,\n",
      "Loaded 6 sensor(s) in 0.019s,\n",
      "Loaded 17995 surface_ann(s) in 0.823s,\n",
      "Done loading in 5.268 seconds (lazy=False).\n",
      "======\n"
     ]
    }
   ],
   "source": [
    "# Initialization\n",
    "%matplotlib inline\n",
    "%load_ext autoreload\n",
    "%autoreload 2\n",
    "import matplotlib.pyplot as plt\n",
    "from nuimages import NuImages\n",
    "\n",
    "# Load NuImages\n",
    "nuim_train = NuImages(dataroot='/root/data/nuimages/images/', version='v1.0-train', verbose=True, lazy=False)\n",
    "nuim_val = NuImages(dataroot='/root/data/nuimages/images/', version='v1.0-val', verbose=True, lazy=False)"
   ]
  },
  {
   "cell_type": "code",
   "execution_count": 7,
   "metadata": {},
   "outputs": [],
   "source": [
    "dataroot = '/root/data/nuimages/images/'\n",
    "attribute_dict = {}\n",
    "for attri in nuim_val.attribute:\n",
    "    attribute_dict[attri['token']] = attri['name']\n",
    "\n",
    "# Attributes for samples in training set\n",
    "data_attributes = {}\n",
    "for ob in nuim_val.object_ann:\n",
    "    sample_token = ob['sample_data_token']\n",
    "\n",
    "    # Get object's file name\n",
    "    path = dataroot + nuim_val.get('sample_data', sample_token)['filename']\n",
    "    if path not in data_attributes and ob['attribute_tokens']:\n",
    "        data_attributes[path] = set()\n",
    "    \n",
    "    # Get object's attribute\n",
    "    for attribute_token in ob['attribute_tokens']:\n",
    "        data_attributes[path].add(attribute_dict[attribute_token])"
   ]
  },
  {
   "cell_type": "markdown",
   "metadata": {
    "id": "BZEhPy4QswDs"
   },
   "source": [
    "Create a .txt file discripting where the files are stored."
   ]
  },
  {
   "cell_type": "code",
   "execution_count": 5,
   "metadata": {
    "id": "R003L3N58CSN"
   },
   "outputs": [],
   "source": [
    "\n",
    "\n",
    "path_with = '/root/siqi/Feature-Mining-for-Object-Detection/split_result/with_rider_val.txt'\n",
    "path_without = '/root/siqi/Feature-Mining-for-Object-Detection/split_result/without_rider_val.txt'\n",
    "path_other = '/root/siqi/Feature-Mining-for-Object-Detection/split_result/other_rider_val.txt'\n",
    "\n",
    "target_1 = 'cycle.with_rider'\n",
    "target_2 = 'cycle.without_rider'\n",
    "\n",
    "\n",
    "f1 = open(path_with, 'w')\n",
    "f2 = open(path_without, 'w')\n",
    "f3 = open(path_other, 'w')\n",
    "\n",
    "for file in data_attributes.keys():\n",
    "    if target_1 in data_attributes[file] and target_2 not in data_attributes[file]:\n",
    "        f1.write(file + '\\n')\n",
    "\n",
    "    elif target_1 not in data_attributes[file] and target_2 in data_attributes[file]:\n",
    "        f2.write(file + '\\n')\n",
    "    \n",
    "    elif target_1 not in data_attributes[file] and target_2 not in data_attributes[file]:\n",
    "        f3.write(file + '\\n')"
   ]
  },
  {
   "cell_type": "markdown",
   "metadata": {},
   "source": [
    "Check weird data"
   ]
  },
  {
   "cell_type": "code",
   "execution_count": 6,
   "metadata": {},
   "outputs": [
    {
     "name": "stdout",
     "output_type": "stream",
     "text": [
      "{'token': '0000efb0e1c841d49ddfb26734c38fb1', 'category_token': '6021b5187b924d64be64a702e5570edf', 'bbox': [292, 454, 405, 508], 'mask': {'size': [900, 1600], 'counts': 'ZVNRODhkazA+QzdIOEw0TjIwMDAwMDAwMDA3STJOMDAwMDAwMU9PMk8xTzBPN0oxTzFOMTAxTjJPME8yTjJPME8xMDAwMDAxTzBPMTAwTzFWT1JVTz5cazBNM04xTjEwTzAwMU8xTzAxME8wMDEwTzAxTjFOM05IVV47TFdiRDJOMk4yTzEwMDAwMDAwMDAwMDAwMDAwMDFPTjJOMk5YWmNRMQ=='}, 'attribute_tokens': ['abc0f113547848a9baaa62096fca37f5'], 'sample_data_token': '88203d2859ab4dac9870d5559a99ce9e'}\n",
      "{'63a94dfa99bb47529567cd90d3b58384': 'animal', 'a86329ee68a0411fb426dcad3b21452f': 'flat.driveable_surface', '1fa93b757fc74fb197cdd60001ad8abf': 'human.pedestrian.adult', 'b1c6de4c57f14a5383d9f963fbdcb5cb': 'human.pedestrian.child', '909f1237d34a49d6bdd27c2fe4581d79': 'human.pedestrian.construction_worker', '403fede16c88426885dd73366f16c34a': 'human.pedestrian.personal_mobility', 'e3c7da112cd9475a9a10d45015424815': 'human.pedestrian.police_officer', '6a5888777ca14867a8aee3fe539b56c4': 'human.pedestrian.stroller', 'b2d7c6c701254928a9e4d6aac9446d79': 'human.pedestrian.wheelchair', '653f7efbb9514ce7b81d44070d6208c1': 'movable_object.barrier', '063c5e7f638343d3a7230bc3641caf97': 'movable_object.debris', 'd772e4bae20f493f98e15a76518b31d7': 'movable_object.pushable_pullable', '85abebdccd4d46c7be428af5a6173947': 'movable_object.trafficcone', '0a30519ee16a4619b4f4acfe2d78fb55': 'static_object.bicycle_rack', 'fc95c87b806f48f8a1faea2dcc2222a4': 'vehicle.bicycle', '003edbfb9ca849ee8a7496e9af3025d4': 'vehicle.bus.bendy', 'fedb11688db84088883945752e480c2c': 'vehicle.bus.rigid', 'fd69059b62a3469fbaef25340c0eab7f': 'vehicle.car', '5b3cd6f2bca64b83aa3d0008df87d0e4': 'vehicle.construction', '7754874e6d0247f9855ae19a4028bf0e': 'vehicle.ego', '732cce86872640628788ff1bb81006d4': 'vehicle.emergency.ambulance', '7b2ff083a64e4d53809ae5d9be563504': 'vehicle.emergency.police', 'dfd26f200ade4d24b540184e16050022': 'vehicle.motorcycle', '90d0f6f8e7c749149b1b6c3a029841a8': 'vehicle.trailer', '6021b5187b924d64be64a702e5570edf': 'vehicle.truck'}\n"
     ]
    }
   ],
   "source": [
    "category_dict = {}\n",
    "for cate in nuim_val.category:\n",
    "    category_dict[cate['token']] = cate['name']\n",
    "\n",
    "cycle_with_rider = '271f6773e4d2496cbb9942c204c8a4c1'\n",
    "cycle_without_rider = '725f0121878f4c86909f256fd9df8569'\n",
    "\n",
    "for ob in nuim_val.object_ann:\n",
    "    print(ob)\n",
    "    for attribute_token in ob['attribute_tokens']:\n",
    "        if "
   ]
  },
  {
   "cell_type": "code",
   "execution_count": 8,
   "metadata": {},
   "outputs": [
    {
     "name": "stdout",
     "output_type": "stream",
     "text": [
      "{'271f6773e4d2496cbb9942c204c8a4c1': 'cycle.with_rider', '725f0121878f4c86909f256fd9df8569': 'cycle.without_rider', '963614d0532a4c6e946d303a94f40a3e': 'pedestrian.moving', '8c92f43bdb7c4df399aac34068f08f0f': 'pedestrian.sitting_lying_down', '60346f6d0fcd4d9eadd6f64c77dd1e93': 'pedestrian.standing', 'abc0f113547848a9baaa62096fca37f5': 'vehicle.moving', '9f65c1eaa74e4d5db46e87a34811e994': 'vehicle.parked', '46dfc76161234ff1a74eff81da7daab0': 'vehicle.stopped', '3ba0a4fefa8a46f39118e35e45c4111a': 'vehicle_light.emergency.flashing', '67125c542a1e4e25aa05dcf1c3a282b9': 'vehicle_light.emergency.not_flashing', 'f8cc93a317e04f098423bedb0150e35a': 'vertical_position.off_ground', 'ca7cd5668bac48c6b670c43fc4c6f21b': 'vertical_position.on_ground'}\n"
     ]
    }
   ],
   "source": [
    "print(attribute_dict)"
   ]
  }
 ],
 "metadata": {
  "accelerator": "GPU",
  "colab": {
   "collapsed_sections": [],
   "machine_shape": "hm",
   "name": "yolov4_nuScenes.ipynb",
   "provenance": []
  },
  "gpuClass": "standard",
  "kernelspec": {
   "display_name": "Python 3",
   "language": "python",
   "name": "python3"
  },
  "language_info": {
   "codemirror_mode": {
    "name": "ipython",
    "version": 3
   },
   "file_extension": ".py",
   "mimetype": "text/x-python",
   "name": "python",
   "nbconvert_exporter": "python",
   "pygments_lexer": "ipython3",
   "version": "3.8.10"
  },
  "vscode": {
   "interpreter": {
    "hash": "31f2aee4e71d21fbe5cf8b01ff0e069b9275f58929596ceb00d14d90e3e16cd6"
   }
  }
 },
 "nbformat": 4,
 "nbformat_minor": 1
}
