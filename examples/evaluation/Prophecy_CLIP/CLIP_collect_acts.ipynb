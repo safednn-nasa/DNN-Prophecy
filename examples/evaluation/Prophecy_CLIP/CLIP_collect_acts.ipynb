{
  "cells": [
    {
      "cell_type": "code",
      "execution_count": null,
      "metadata": {
        "colab": {
          "base_uri": "https://localhost:8080/"
        },
        "id": "PJCrQu_EEaT9",
        "outputId": "7cde3ae5-6b2a-40ea-ba3d-af5368314c04"
      },
      "outputs": [
        {
          "output_type": "stream",
          "name": "stderr",
          "text": [
            "/usr/local/lib/python3.11/dist-packages/huggingface_hub/utils/_auth.py:94: UserWarning: \n",
            "The secret `HF_TOKEN` does not exist in your Colab secrets.\n",
            "To authenticate with the Hugging Face Hub, create a token in your settings tab (https://huggingface.co/settings/tokens), set it as secret in your Google Colab and restart your session.\n",
            "You will be able to reuse this secret in all of your notebooks.\n",
            "Please note that authentication is recommended but still optional to access public models or datasets.\n",
            "  warnings.warn(\n",
            "Using a slow image processor as `use_fast` is unset and a slow processor was saved with this model. `use_fast=True` will be the default behavior in v4.50, even if the model was saved with a slow processor. This will result in minor differences in outputs. You'll still be able to use a slow processor with `use_fast=False`.\n"
          ]
        }
      ],
      "source": [
        "import csv\n",
        "import time\n",
        "import os\n",
        "\n",
        "import pandas as pd\n",
        "from PIL import ImageFile\n",
        "from PIL import Image\n",
        "import torch\n",
        "start_time = time.time()\n",
        "ImageFile.LOAD_TRUNCATED_IMAGES = True\n",
        "from transformers import CLIPProcessor, CLIPModel\n",
        "model = CLIPModel.from_pretrained(\"openai/clip-vit-large-patch14\")\n",
        "processor = CLIPProcessor.from_pretrained(\"openai/clip-vit-large-patch14\")\n",
        "def get_features(name):\n",
        "    def hook(model, input, output):\n",
        "        features[name] = output.detach()\n",
        "    return hook\n"
      ]
    },
    {
      "cell_type": "code",
      "execution_count": null,
      "metadata": {
        "colab": {
          "base_uri": "https://localhost:8080/"
        },
        "id": "lCitkbqFEex_",
        "outputId": "fe9e6936-01d6-4c08-ffd4-58a577d72fd5"
      },
      "outputs": [
        {
          "output_type": "stream",
          "name": "stdout",
          "text": [
            "tensor(0)\n",
            "(0, 263168)\n",
            "tensor(0)\n",
            "(1, 263168)\n",
            "tensor(0)\n",
            "(2, 263168)\n",
            "tensor(0)\n",
            "(3, 263168)\n",
            "tensor(0)\n",
            "(4, 263168)\n",
            "tensor(0)\n",
            "(5, 263168)\n",
            "tensor(0)\n",
            "(6, 263168)\n",
            "tensor(0)\n",
            "(7, 263168)\n",
            "tensor(0)\n",
            "(8, 263168)\n",
            "tensor(0)\n",
            "(9, 263168)\n",
            "tensor(0)\n",
            "(10, 263168)\n",
            "tensor(0)\n",
            "(11, 263168)\n",
            "tensor(0)\n",
            "(12, 263168)\n",
            "tensor(0)\n",
            "(13, 263168)\n",
            "tensor(0)\n",
            "(14, 263168)\n",
            "tensor(0)\n",
            "(15, 263168)\n",
            "tensor(0)\n",
            "(16, 263168)\n",
            "tensor(0)\n",
            "(17, 263168)\n",
            "tensor(0)\n",
            "(18, 263168)\n",
            "tensor(0)\n",
            "(19, 263168)\n",
            "tensor(0)\n",
            "(20, 263168)\n",
            "tensor(0)\n",
            "(21, 263168)\n",
            "tensor(0)\n",
            "(22, 263168)\n",
            "tensor(0)\n",
            "(23, 263168)\n",
            "tensor(0)\n",
            "(24, 263168)\n",
            "tensor(0)\n",
            "(25, 263168)\n",
            "tensor(0)\n",
            "(26, 263168)\n",
            "tensor(0)\n",
            "(27, 263168)\n",
            "tensor(0)\n",
            "(28, 263168)\n",
            "tensor(0)\n",
            "(29, 263168)\n",
            "tensor(0)\n",
            "(30, 263168)\n",
            "tensor(0)\n",
            "(31, 263168)\n",
            "tensor(0)\n",
            "(32, 263168)\n",
            "tensor(0)\n",
            "(33, 263168)\n",
            "tensor(0)\n",
            "(34, 263168)\n",
            "tensor(0)\n",
            "(35, 263168)\n",
            "tensor(0)\n",
            "(36, 263168)\n",
            "tensor(0)\n",
            "(37, 263168)\n",
            "tensor(0)\n",
            "(38, 263168)\n",
            "tensor(0)\n",
            "(39, 263168)\n",
            "tensor(0)\n",
            "(40, 263168)\n"
          ]
        }
      ],
      "source": [
        "folder=\"Car2/\"\n",
        "#Car for correctly classified car images\n",
        "#Truck for correctly classified truck images\n",
        "#Car2 for incorrectly classified car images\n",
        "#Truck2 for incorrectly classified truck images\n",
        "path_data = folder # Here is your path\n",
        "count=0\n",
        "for dir_name, _, file_list in os.walk(path_data):\n",
        "    for file in sorted(file_list):\n",
        "        if file :\n",
        "            count=count+1\n",
        "            image=Image.open(os.path.join(dir_name, file))\n",
        "            inputs = processor(text=[\"a photo of a truck\", \"a photo of a car\"], images=image, return_tensors=\"pt\", padding=True)\n",
        "            #outputs = model(**inputs)\n",
        "            #print(outputs.logits_per_image)\n",
        "            #logits_per_image = outputs.logits_per_image # this is the image-text similarity score\n",
        "            #probs = logits_per_image.softmax(dim=1) # we can take the softmax to get the label probabilities\n",
        "            #print(os.path.join(dir_name, file),probs[0].argmax()) # Prints File Names with Predicted Label\n",
        "            #######################################################################################################################\n",
        "            model.vision_model.encoder.layers[18].layer_norm2.register_forward_hook(get_features(\"feats\"))\n",
        "            device = torch.device(\"cpu\")\n",
        "            PREDS = []\n",
        "            FEATS = []\n",
        "            # placeholder for batch features\n",
        "            features = {}\n",
        "            # loop through batches # move to device\n",
        "            inputs = inputs.to(device)\n",
        "            # forward pass [with feature extraction]\n",
        "            preds = model(**inputs)\n",
        "            label=preds.logits_per_image.softmax(dim=1)[0].argmax()\n",
        "            print(label)\n",
        "            #print(os.path.join(dir_name, file),label)\n",
        "            ###########################WRITES FEATURES TO CSV######################################################\n",
        "            #for name, parameter in model.named_parameters(): # Uncomment for printing all Model Parameter Names\n",
        "            #   print(name)\n",
        "            #print(preds.logits_per_image) # Print final label output\n",
        "            #print(features[\"feats\"].flatten()) # Print feature Values\n",
        "            with open(\"label.csv\", \"a\",newline='') as fp:\n",
        "                # (0: cars incorrectly classified)\n",
        "                # (1: cars correctly classified)\n",
        "                # (2: trucks correctly classified)\n",
        "                # (3: trucks incorrectly classified)\n",
        "               wr = csv.writer(fp, dialect='excel')\n",
        "               if folder == \"Car2/\" and label == 0:\n",
        "                   wr.writerow('0')\n",
        "               if folder == \"Car/\" and label == 1:\n",
        "                   wr.writerow('1')\n",
        "               if folder==\"Truck/\" and label==0:\n",
        "                   wr.writerow('2')\n",
        "               if folder == \"Truck2/\" and label == 1:\n",
        "                    wr.writerow('3')\n",
        "\n",
        "            with open(\"features.csv\", \"a\") as fp:\n",
        "                wr = csv.writer(fp, dialect='excel')\n",
        "                wr.writerow(features[\"feats\"].flatten().tolist())\n",
        "            df = pd.read_csv('features.csv')\n",
        "            print(df.shape)\n",
        "            ########################################################################################################\n",
        "\n"
      ]
    },
    {
      "cell_type": "code",
      "execution_count": null,
      "metadata": {
        "id": "rG6tDKVJEe0b"
      },
      "outputs": [],
      "source": [
        "print(\"--- %s seconds ---\" % (time.time() - start_time))"
      ]
    },
    {
      "cell_type": "code",
      "execution_count": null,
      "metadata": {
        "id": "XrpMKA9BEe3x"
      },
      "outputs": [],
      "source": []
    }
  ],
  "metadata": {
    "colab": {
      "provenance": []
    },
    "kernelspec": {
      "display_name": "Python 3",
      "name": "python3"
    },
    "language_info": {
      "name": "python"
    }
  },
  "nbformat": 4,
  "nbformat_minor": 0
}