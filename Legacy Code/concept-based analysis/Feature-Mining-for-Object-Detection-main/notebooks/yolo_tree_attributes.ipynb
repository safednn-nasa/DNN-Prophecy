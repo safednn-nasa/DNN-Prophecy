{
 "cells": [
  {
   "cell_type": "code",
   "execution_count": 1,
   "metadata": {},
   "outputs": [],
   "source": [
    "import sys\n",
    "import os\n",
    "import numpy as np\n",
    "import torch\n",
    "import matplotlib.pyplot as plt\n",
    "import json\n",
    "sys.path.insert(0, '/root/siqi/Feature-Mining-for-Object-Detection')\n",
    "from feature_mining.decision_tree import *\n"
   ]
  },
  {
   "cell_type": "code",
   "execution_count": 2,
   "metadata": {},
   "outputs": [
    {
     "name": "stdout",
     "output_type": "stream",
     "text": [
      "(2004, 90, 30, 52)\n"
     ]
    }
   ],
   "source": [
    "train_dataset = torch.load('/root/data/activation_outputs/train_data_29.pt')\n",
    "# The activation outputs\n",
    "train_data = train_dataset['data'].numpy()\n",
    "print(train_data.shape)\n",
    "train_data = train_data.reshape(train_data.shape[0], -1)\n",
    "# The attributes associate with the activation outputs\n",
    "train_attributes = train_dataset['label']\n",
    "\n",
    "val_dataset = torch.load('/root/data/activation_outputs/val_data_29.pt')\n",
    "# The activation outputs\n",
    "val_data = val_dataset['data'].numpy()\n",
    "val_data = val_data.reshape(val_data.shape[0], -1)\n",
    "# The attributes associate with the activation outputs\n",
    "val_attributes = val_dataset['label']"
   ]
  },
  {
   "cell_type": "code",
   "execution_count": 3,
   "metadata": {},
   "outputs": [
    {
     "name": "stdout",
     "output_type": "stream",
     "text": [
      "(2004, 140400)\n",
      "(2004, 140400)\n"
     ]
    }
   ],
   "source": [
    "print(train_data.shape)\n",
    "print(val_data.shape)"
   ]
  },
  {
   "cell_type": "code",
   "execution_count": 4,
   "metadata": {},
   "outputs": [
    {
     "name": "stdout",
     "output_type": "stream",
     "text": [
      "Activation output 0: [-0.18898432  0.32860994  0.04227519 ... -1.4035988  -0.8112181\n",
      " -0.8552464 ]\n",
      "Attributes 0: {'cycle.with_rider', 'pedestrian.moving', 'pedestrian.standing', 'vehicle.moving'}\n"
     ]
    }
   ],
   "source": [
    "print(f'Activation output 0: {train_data[0]}')\n",
    "print(f'Attributes 0: {train_attributes[0]}')"
   ]
  },
  {
   "cell_type": "code",
   "execution_count": 27,
   "metadata": {},
   "outputs": [
    {
     "name": "stdout",
     "output_type": "stream",
     "text": [
      "1616 388\n",
      "1548 456\n"
     ]
    }
   ],
   "source": [
    "# Assign label\n",
    "# target_attribute = 'pedestrian.moving'\n",
    "# target_attribute = 'vehicle.parked'\n",
    "# target_attribute = 'pedestrian'\n",
    "target_attribute = 'vehicle'\n",
    "train_label = [False] * len(train_data)\n",
    "\n",
    "for i, attributes in enumerate(train_attributes):\n",
    "    for attribute in attributes:\n",
    "        if target_attribute in attribute:\n",
    "            train_label[i] = True\n",
    "            break\n",
    "\n",
    "print(train_label.count(True), train_label.count(False))\n",
    "\n",
    "val_label = [False] * len(val_data)\n",
    "\n",
    "for i, attributes in enumerate(val_attributes):\n",
    "    for attribute in attributes:\n",
    "        if target_attribute in attribute:\n",
    "            val_label[i] = True\n",
    "\n",
    "print(val_label.count(True), val_label.count(False))"
   ]
  },
  {
   "cell_type": "code",
   "execution_count": 28,
   "metadata": {},
   "outputs": [
    {
     "name": "stdout",
     "output_type": "stream",
     "text": [
      "Obtained all paths\n"
     ]
    },
    {
     "name": "stderr",
     "output_type": "stream",
     "text": [
      "100%|██████████| 81/81 [00:00<00:00, 209715.20it/s]\n"
     ]
    }
   ],
   "source": [
    "invariants = get_invariant(train_data, train_label)"
   ]
  },
  {
   "cell_type": "code",
   "execution_count": 29,
   "metadata": {},
   "outputs": [
    {
     "name": "stdout",
     "output_type": "stream",
     "text": [
      "<class 'dict'>\n",
      "2\n",
      "dict_keys([True, False])\n",
      "34 for Class True, 47 for Class False\n"
     ]
    }
   ],
   "source": [
    "# print(invariants[0])\n",
    "print(type(invariants))\n",
    "print(len(invariants))\n",
    "print(invariants.keys())\n",
    "print(f'{len(invariants[True])} for Class True, {len(invariants[False])} for Class False')"
   ]
  },
  {
   "cell_type": "code",
   "execution_count": 30,
   "metadata": {},
   "outputs": [
    {
     "name": "stdout",
     "output_type": "stream",
     "text": [
      "Class True [[8607, 99766, 1615, 126036, 56537, 95695, 26677, 15639, 75465, 49649, 122423, 120283, 78035, 24079, 100644, 56211, 7971, 77811, 130096, 21999, 65187, 34323, 51873, 110143, 29905, 125405], ['<=', -6.795586109161377, '>', -1.0424776673316956, '>', -2.786024570465088, '<=', -4.470809698104858, '>', -7.610140562057495, '>', -0.6740290224552155, '<=', -0.2088850736618042, '<=', -5.060968637466431, '<=', -1.8092931509017944, '<=', 0.5216390192508698, '<=', -0.7047935724258423, '<=', -1.7720696926116943, '>', -6.5032243728637695, '<=', -2.5001354217529297, '>', -16.02127170562744, '>', -7.11587929725647, '<=', -1.8601446151733398, '>', -6.447704076766968, '<=', 0.770761251449585, '>', -6.694637775421143, '<=', -5.555307865142822, '>', -4.2399115562438965, '<=', 1.7600448727607727, '<=', -3.7868603467941284, '<=', -1.1621071696281433, '>', -6.090216636657715], 1214]\n",
      "\n",
      "Class False [[8607, 99767, 24052, 63069, 73918, 15121, 76989, 63911, 117699, 86262, 27335], ['>', -6.795586109161377, '<=', -0.938618928194046, '>', -5.7843918800354, '>', -6.684983015060425, '>', -6.5768702030181885, '>', -5.745378494262695, '>', -6.174589157104492, '>', -6.435413837432861, '<=', -2.560651421546936, '<=', -6.199075698852539, '>', -6.7437660694122314], 161]\n"
     ]
    }
   ],
   "source": [
    "print('Class', True, invariants[True][0])\n",
    "print()\n",
    "print('Class', False, invariants[False][0])"
   ]
  },
  {
   "cell_type": "code",
   "execution_count": 31,
   "metadata": {},
   "outputs": [
    {
     "name": "stdout",
     "output_type": "stream",
     "text": [
      "2\n",
      "# of 1110 positive samples support true 1214\n",
      "# of 894 negative samples support false 161\n"
     ]
    }
   ],
   "source": [
    "print(len(invariants))\n",
    "print(f'# of {1110} positive samples support true {invariants[True][0][-1]}')\n",
    "print(f'# of {2004 - 1110} negative samples support false {invariants[False][0][-1]}')\n"
   ]
  },
  {
   "cell_type": "code",
   "execution_count": 32,
   "metadata": {},
   "outputs": [
    {
     "name": "stdout",
     "output_type": "stream",
     "text": [
      "CLASS; True [[8607, 99766, 1615, 126036, 56537, 95695, 26677, 15639, 75465, 49649, 122423, 120283, 78035, 24079, 100644, 56211, 7971, 77811, 130096, 21999, 65187, 34323, 51873, 110143, 29905, 125405], ['<=', -6.795586109161377, '>', -1.0424776673316956, '>', -2.786024570465088, '<=', -4.470809698104858, '>', -7.610140562057495, '>', -0.6740290224552155, '<=', -0.2088850736618042, '<=', -5.060968637466431, '<=', -1.8092931509017944, '<=', 0.5216390192508698, '<=', -0.7047935724258423, '<=', -1.7720696926116943, '>', -6.5032243728637695, '<=', -2.5001354217529297, '>', -16.02127170562744, '>', -7.11587929725647, '<=', -1.8601446151733398, '>', -6.447704076766968, '<=', 0.770761251449585, '>', -6.694637775421143, '<=', -5.555307865142822, '>', -4.2399115562438965, '<=', 1.7600448727607727, '<=', -3.7868603467941284, '<=', -1.1621071696281433, '>', -6.090216636657715], 1214] ;Precision: 100.0 ;Recall: 75.12376237623762\n",
      "\n",
      "CLASS; False [[8607, 99767, 24052, 63069, 73918, 15121, 76989, 63911, 117699, 86262, 27335], ['>', -6.795586109161377, '<=', -0.938618928194046, '>', -5.7843918800354, '>', -6.684983015060425, '>', -6.5768702030181885, '>', -5.745378494262695, '>', -6.174589157104492, '>', -6.435413837432861, '<=', -2.560651421546936, '<=', -6.199075698852539, '>', -6.7437660694122314], 161] ;Precision: 100.0 ;Recall: 41.49484536082475\n"
     ]
    }
   ],
   "source": [
    "validate(invariants[True][0], True, train_data, train_label)\n",
    "print()\n",
    "validate(invariants[False][0], False, train_data, train_label)"
   ]
  },
  {
   "cell_type": "code",
   "execution_count": 33,
   "metadata": {},
   "outputs": [
    {
     "name": "stdout",
     "output_type": "stream",
     "text": [
      "CLASS; True [[8607, 99766, 1615, 126036, 56537, 95695, 26677, 15639, 75465, 49649, 122423, 120283, 78035, 24079, 100644, 56211, 7971, 77811, 130096, 21999, 65187, 34323, 51873, 110143, 29905, 125405], ['<=', -6.795586109161377, '>', -1.0424776673316956, '>', -2.786024570465088, '<=', -4.470809698104858, '>', -7.610140562057495, '>', -0.6740290224552155, '<=', -0.2088850736618042, '<=', -5.060968637466431, '<=', -1.8092931509017944, '<=', 0.5216390192508698, '<=', -0.7047935724258423, '<=', -1.7720696926116943, '>', -6.5032243728637695, '<=', -2.5001354217529297, '>', -16.02127170562744, '>', -7.11587929725647, '<=', -1.8601446151733398, '>', -6.447704076766968, '<=', 0.770761251449585, '>', -6.694637775421143, '<=', -5.555307865142822, '>', -4.2399115562438965, '<=', 1.7600448727607727, '<=', -3.7868603467941284, '<=', -1.1621071696281433, '>', -6.090216636657715], 1214] ;Precision: 87.95620437956204 ;Recall: 62.273901808785524\n",
      "\n",
      "CLASS; False [[8607, 99767, 24052, 63069, 73918, 15121, 76989, 63911, 117699, 86262, 27335], ['>', -6.795586109161377, '<=', -0.938618928194046, '>', -5.7843918800354, '>', -6.684983015060425, '>', -6.5768702030181885, '>', -5.745378494262695, '>', -6.174589157104492, '>', -6.435413837432861, '<=', -2.560651421546936, '<=', -6.199075698852539, '>', -6.7437660694122314], 161] ;Precision: 61.267605633802816 ;Recall: 19.078947368421055\n"
     ]
    }
   ],
   "source": [
    "validate(invariants[True][0], True, val_data, val_label)\n",
    "print()\n",
    "validate(invariants[False][0], False, val_data, val_label)"
   ]
  }
 ],
 "metadata": {
  "kernelspec": {
   "display_name": "Python 3.8.10 64-bit",
   "language": "python",
   "name": "python3"
  },
  "language_info": {
   "codemirror_mode": {
    "name": "ipython",
    "version": 3
   },
   "file_extension": ".py",
   "mimetype": "text/x-python",
   "name": "python",
   "nbconvert_exporter": "python",
   "pygments_lexer": "ipython3",
   "version": "3.8.10"
  },
  "orig_nbformat": 4,
  "vscode": {
   "interpreter": {
    "hash": "916dbcbb3f70747c44a77c7bcd40155683ae19c65e1c03b4aa3499c5328201f1"
   }
  }
 },
 "nbformat": 4,
 "nbformat_minor": 2
}
