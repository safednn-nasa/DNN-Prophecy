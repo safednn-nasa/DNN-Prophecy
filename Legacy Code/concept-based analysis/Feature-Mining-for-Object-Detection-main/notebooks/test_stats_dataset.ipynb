{
 "cells": [
  {
   "cell_type": "markdown",
   "metadata": {
    "id": "Vzpzj6tcwgmn"
   },
   "source": [
    "### Load Library ###"
   ]
  },
  {
   "cell_type": "code",
   "execution_count": 1,
   "metadata": {
    "colab": {
     "base_uri": "https://localhost:8080/"
    },
    "executionInfo": {
     "elapsed": 37173,
     "status": "ok",
     "timestamp": 1657768553599,
     "user": {
      "displayName": "谢斯棋",
      "userId": "13460657872157698438"
     },
     "user_tz": 240
    },
    "id": "T97sCXN8jfFo",
    "outputId": "f71fda91-4303-4e4f-a657-a918d4ff0fbc"
   },
   "outputs": [],
   "source": [
    "import os\n",
    "from pathlib import Path\n",
    "import numpy as np\n",
    "import yaml\n",
    "from tqdm import tqdm\n",
    "import torch\n",
    "import sys\n",
    "sys.path.append('../')\n",
    "\n",
    "from models.models import *\n",
    "from utils.datasets import create_dataloader\n",
    "from utils.general import non_max_suppression, increment_path, check_dataset, check_img_size\n",
    "from utils.torch_utils import select_device\n",
    "from utils.metrics import ap_per_class, compute_ap\n",
    "from feature_mining.utils import *"
   ]
  },
  {
   "cell_type": "code",
   "execution_count": 2,
   "metadata": {},
   "outputs": [],
   "source": [
    "# Set parameters\n",
    "%matplotlib inline\n",
    "imgsz=1600\n",
    "imgsz_test=1600\n",
    "# img_size = (1600, 900)\n",
    "batch_size=4\n",
    "gs=64\n",
    "cache_image=True\n",
    "rect=True\n",
    "pad=0.5\n",
    "conf_thres=0.001\n",
    "iou_thres=0.6\n",
    "cfg = '../cfg/yolov4-tiny-25.cfg'\n",
    "device_str = 'cpu'\n",
    "weights='../weights/best.pt'\n",
    "data='../data/nuimages.yaml'\n",
    "save_dir = Path(increment_path(Path('runs/visualize') / 'yolov4-tiny-25', exist_ok=True))  # increment run\n",
    "save_dir.mkdir(parents=True, exist_ok=True)"
   ]
  },
  {
   "cell_type": "markdown",
   "metadata": {
    "id": "WqzHjz0l-VVE"
   },
   "source": [
    "### Set Up Dataset ###\n",
    "Download nuScenes dataset and uncompress it."
   ]
  },
  {
   "cell_type": "code",
   "execution_count": 3,
   "metadata": {
    "colab": {
     "base_uri": "https://localhost:8080/"
    },
    "executionInfo": {
     "elapsed": 57195,
     "status": "ok",
     "timestamp": 1657656999013,
     "user": {
      "displayName": "谢斯棋",
      "userId": "13460657872157698438"
     },
     "user_tz": 240
    },
    "id": "mP_iQzGb-lcY",
    "outputId": "58b24fc0-6114-482b-e6fb-e178c0335a5b"
   },
   "outputs": [
    {
     "name": "stdout",
     "output_type": "stream",
     "text": [
      "======\n",
      "Loading nuImages tables for version v1.0-train...\n",
      "Loaded 12 attribute(s) in 0.019s,\n",
      "Loaded 2022 calibrated_sensor(s) in 0.025s,\n",
      "Loaded 25 category(s) in 0.000s,\n",
      "Loaded 872181 ego_pose(s) in 7.088s,\n",
      "Loaded 350 log(s) in 0.007s,\n",
      "Loaded 557715 object_ann(s) in 4.603s,\n",
      "Loaded 67279 sample(s) in 0.144s,\n",
      "Loaded 872181 sample_data(s) in 4.679s,\n",
      "Loaded 6 sensor(s) in 0.000s,\n",
      "Loaded 73755 surface_ann(s) in 3.030s,\n",
      "Done loading in 19.596 seconds (lazy=False).\n",
      "======\n",
      "======\n",
      "Loading nuImages tables for version v1.0-val...\n",
      "Loaded 12 attribute(s) in 0.000s,\n",
      "Loaded 464 calibrated_sensor(s) in 0.011s,\n",
      "Loaded 25 category(s) in 0.000s,\n",
      "Loaded 213185 ego_pose(s) in 2.013s,\n",
      "Loaded 82 log(s) in 0.014s,\n",
      "Loaded 136074 object_ann(s) in 0.886s,\n",
      "Loaded 16445 sample(s) in 0.052s,\n",
      "Loaded 213185 sample_data(s) in 1.168s,\n",
      "Loaded 6 sensor(s) in 0.021s,\n",
      "Loaded 17995 surface_ann(s) in 0.777s,\n",
      "Done loading in 4.944 seconds (lazy=False).\n",
      "======\n"
     ]
    }
   ],
   "source": [
    "# Initialization\n",
    "%matplotlib inline\n",
    "%load_ext autoreload\n",
    "%autoreload 2\n",
    "import matplotlib.pyplot as plt\n",
    "from nuimages import NuImages\n",
    "\n",
    "# Load NuImages\n",
    "nuim_train = NuImages(dataroot='/root/data/nuimages/images/', version='v1.0-train', verbose=True, lazy=False)\n",
    "nuim_val = NuImages(dataroot='/root/data/nuimages/images/', version='v1.0-val', verbose=True, lazy=False)"
   ]
  },
  {
   "cell_type": "code",
   "execution_count": 4,
   "metadata": {},
   "outputs": [
    {
     "data": {
      "text/plain": [
       "Darknet(\n",
       "  (module_list): ModuleList(\n",
       "    (0): Sequential(\n",
       "      (Conv2d): Conv2d(3, 32, kernel_size=(3, 3), stride=(2, 2), padding=(1, 1), bias=False)\n",
       "      (BatchNorm2d): BatchNorm2d(32, eps=0.0001, momentum=0.03, affine=True, track_running_stats=True)\n",
       "      (activation): LeakyReLU(negative_slope=0.1, inplace=True)\n",
       "    )\n",
       "    (1): Sequential(\n",
       "      (Conv2d): Conv2d(32, 64, kernel_size=(3, 3), stride=(2, 2), padding=(1, 1), bias=False)\n",
       "      (BatchNorm2d): BatchNorm2d(64, eps=0.0001, momentum=0.03, affine=True, track_running_stats=True)\n",
       "      (activation): LeakyReLU(negative_slope=0.1, inplace=True)\n",
       "    )\n",
       "    (2): Sequential(\n",
       "      (Conv2d): Conv2d(64, 64, kernel_size=(3, 3), stride=(1, 1), padding=(1, 1), bias=False)\n",
       "      (BatchNorm2d): BatchNorm2d(64, eps=0.0001, momentum=0.03, affine=True, track_running_stats=True)\n",
       "      (activation): LeakyReLU(negative_slope=0.1, inplace=True)\n",
       "    )\n",
       "    (3): FeatureConcat_l()\n",
       "    (4): Sequential(\n",
       "      (Conv2d): Conv2d(32, 32, kernel_size=(3, 3), stride=(1, 1), padding=(1, 1), bias=False)\n",
       "      (BatchNorm2d): BatchNorm2d(32, eps=0.0001, momentum=0.03, affine=True, track_running_stats=True)\n",
       "      (activation): LeakyReLU(negative_slope=0.1, inplace=True)\n",
       "    )\n",
       "    (5): Sequential(\n",
       "      (Conv2d): Conv2d(32, 32, kernel_size=(3, 3), stride=(1, 1), padding=(1, 1), bias=False)\n",
       "      (BatchNorm2d): BatchNorm2d(32, eps=0.0001, momentum=0.03, affine=True, track_running_stats=True)\n",
       "      (activation): LeakyReLU(negative_slope=0.1, inplace=True)\n",
       "    )\n",
       "    (6): FeatureConcat()\n",
       "    (7): Sequential(\n",
       "      (Conv2d): Conv2d(64, 64, kernel_size=(1, 1), stride=(1, 1), bias=False)\n",
       "      (BatchNorm2d): BatchNorm2d(64, eps=0.0001, momentum=0.03, affine=True, track_running_stats=True)\n",
       "      (activation): LeakyReLU(negative_slope=0.1, inplace=True)\n",
       "    )\n",
       "    (8): FeatureConcat()\n",
       "    (9): MaxPool2d(kernel_size=2, stride=2, padding=0, dilation=1, ceil_mode=False)\n",
       "    (10): Sequential(\n",
       "      (Conv2d): Conv2d(128, 128, kernel_size=(3, 3), stride=(1, 1), padding=(1, 1), bias=False)\n",
       "      (BatchNorm2d): BatchNorm2d(128, eps=0.0001, momentum=0.03, affine=True, track_running_stats=True)\n",
       "      (activation): LeakyReLU(negative_slope=0.1, inplace=True)\n",
       "    )\n",
       "    (11): FeatureConcat_l()\n",
       "    (12): Sequential(\n",
       "      (Conv2d): Conv2d(64, 64, kernel_size=(3, 3), stride=(1, 1), padding=(1, 1), bias=False)\n",
       "      (BatchNorm2d): BatchNorm2d(64, eps=0.0001, momentum=0.03, affine=True, track_running_stats=True)\n",
       "      (activation): LeakyReLU(negative_slope=0.1, inplace=True)\n",
       "    )\n",
       "    (13): Sequential(\n",
       "      (Conv2d): Conv2d(64, 64, kernel_size=(3, 3), stride=(1, 1), padding=(1, 1), bias=False)\n",
       "      (BatchNorm2d): BatchNorm2d(64, eps=0.0001, momentum=0.03, affine=True, track_running_stats=True)\n",
       "      (activation): LeakyReLU(negative_slope=0.1, inplace=True)\n",
       "    )\n",
       "    (14): FeatureConcat()\n",
       "    (15): Sequential(\n",
       "      (Conv2d): Conv2d(128, 128, kernel_size=(1, 1), stride=(1, 1), bias=False)\n",
       "      (BatchNorm2d): BatchNorm2d(128, eps=0.0001, momentum=0.03, affine=True, track_running_stats=True)\n",
       "      (activation): LeakyReLU(negative_slope=0.1, inplace=True)\n",
       "    )\n",
       "    (16): FeatureConcat()\n",
       "    (17): MaxPool2d(kernel_size=2, stride=2, padding=0, dilation=1, ceil_mode=False)\n",
       "    (18): Sequential(\n",
       "      (Conv2d): Conv2d(256, 256, kernel_size=(3, 3), stride=(1, 1), padding=(1, 1), bias=False)\n",
       "      (BatchNorm2d): BatchNorm2d(256, eps=0.0001, momentum=0.03, affine=True, track_running_stats=True)\n",
       "      (activation): LeakyReLU(negative_slope=0.1, inplace=True)\n",
       "    )\n",
       "    (19): FeatureConcat_l()\n",
       "    (20): Sequential(\n",
       "      (Conv2d): Conv2d(128, 128, kernel_size=(3, 3), stride=(1, 1), padding=(1, 1), bias=False)\n",
       "      (BatchNorm2d): BatchNorm2d(128, eps=0.0001, momentum=0.03, affine=True, track_running_stats=True)\n",
       "      (activation): LeakyReLU(negative_slope=0.1, inplace=True)\n",
       "    )\n",
       "    (21): Sequential(\n",
       "      (Conv2d): Conv2d(128, 128, kernel_size=(3, 3), stride=(1, 1), padding=(1, 1), bias=False)\n",
       "      (BatchNorm2d): BatchNorm2d(128, eps=0.0001, momentum=0.03, affine=True, track_running_stats=True)\n",
       "      (activation): LeakyReLU(negative_slope=0.1, inplace=True)\n",
       "    )\n",
       "    (22): FeatureConcat()\n",
       "    (23): Sequential(\n",
       "      (Conv2d): Conv2d(256, 256, kernel_size=(1, 1), stride=(1, 1), bias=False)\n",
       "      (BatchNorm2d): BatchNorm2d(256, eps=0.0001, momentum=0.03, affine=True, track_running_stats=True)\n",
       "      (activation): LeakyReLU(negative_slope=0.1, inplace=True)\n",
       "    )\n",
       "    (24): FeatureConcat()\n",
       "    (25): MaxPool2d(kernel_size=2, stride=2, padding=0, dilation=1, ceil_mode=False)\n",
       "    (26): Sequential(\n",
       "      (Conv2d): Conv2d(512, 512, kernel_size=(3, 3), stride=(1, 1), padding=(1, 1), bias=False)\n",
       "      (BatchNorm2d): BatchNorm2d(512, eps=0.0001, momentum=0.03, affine=True, track_running_stats=True)\n",
       "      (activation): LeakyReLU(negative_slope=0.1, inplace=True)\n",
       "    )\n",
       "    (27): Sequential(\n",
       "      (Conv2d): Conv2d(512, 256, kernel_size=(1, 1), stride=(1, 1), bias=False)\n",
       "      (BatchNorm2d): BatchNorm2d(256, eps=0.0001, momentum=0.03, affine=True, track_running_stats=True)\n",
       "      (activation): LeakyReLU(negative_slope=0.1, inplace=True)\n",
       "    )\n",
       "    (28): Sequential(\n",
       "      (Conv2d): Conv2d(256, 512, kernel_size=(3, 3), stride=(1, 1), padding=(1, 1), bias=False)\n",
       "      (BatchNorm2d): BatchNorm2d(512, eps=0.0001, momentum=0.03, affine=True, track_running_stats=True)\n",
       "      (activation): LeakyReLU(negative_slope=0.1, inplace=True)\n",
       "    )\n",
       "    (29): Sequential(\n",
       "      (Conv2d): Conv2d(512, 90, kernel_size=(1, 1), stride=(1, 1))\n",
       "    )\n",
       "    (30): YOLOLayer()\n",
       "    (31): FeatureConcat()\n",
       "    (32): Sequential(\n",
       "      (Conv2d): Conv2d(256, 128, kernel_size=(1, 1), stride=(1, 1), bias=False)\n",
       "      (BatchNorm2d): BatchNorm2d(128, eps=0.0001, momentum=0.03, affine=True, track_running_stats=True)\n",
       "      (activation): LeakyReLU(negative_slope=0.1, inplace=True)\n",
       "    )\n",
       "    (33): Upsample(scale_factor=2.0, mode=nearest)\n",
       "    (34): FeatureConcat()\n",
       "    (35): Sequential(\n",
       "      (Conv2d): Conv2d(384, 256, kernel_size=(3, 3), stride=(1, 1), padding=(1, 1), bias=False)\n",
       "      (BatchNorm2d): BatchNorm2d(256, eps=0.0001, momentum=0.03, affine=True, track_running_stats=True)\n",
       "      (activation): LeakyReLU(negative_slope=0.1, inplace=True)\n",
       "    )\n",
       "    (36): Sequential(\n",
       "      (Conv2d): Conv2d(256, 90, kernel_size=(1, 1), stride=(1, 1))\n",
       "    )\n",
       "    (37): YOLOLayer()\n",
       "  )\n",
       ")"
      ]
     },
     "execution_count": 4,
     "metadata": {},
     "output_type": "execute_result"
    }
   ],
   "source": [
    "from models import models\n",
    "\n",
    "# device = select_device(device_str)\n",
    "device = 'cuda:2'\n",
    "\n",
    "# Load with checkpoint\n",
    "model = Darknet(cfg).to(device)  # create model\n",
    "\n",
    "ckpt = torch.load(weights, map_location=device)  # load checkpoint\n",
    "ckpt['model'] = {k: v for k, v in ckpt['model'].items() if model.state_dict()[k].numel() == v.numel()}\n",
    "model.load_state_dict(ckpt['model'], strict=False)\n",
    "\n",
    "# Evaluation mode\n",
    "model.eval()"
   ]
  },
  {
   "cell_type": "code",
   "execution_count": 5,
   "metadata": {},
   "outputs": [
    {
     "name": "stdout",
     "output_type": "stream",
     "text": [
      "['animal', 'flat.driveable_surface', 'human.pedestrian.adult', 'human.pedestrian.child', 'human.pedestrian.construction_worker', 'human.pedestrian.personal_mobility', 'human.pedestrian.police_officer', 'human.pedestrian.stroller', 'human.pedestrian.wheelchair', 'movable_object.barrier', 'movable_object.debris', 'movable_object.pushable_pullable', 'movable_object.trafficcone', 'static_object.bicycle_rack', 'vehicle.bicycle', 'vehicle.bus.bendy', 'vehicle.bus.rigid', 'vehicle.car', 'vehicle.construction', 'vehicle.ego', 'vehicle.emergency.ambulance', 'vehicle.emergency.police', 'vehicle.motorcycle', 'vehicle.trailer', 'vehicle.truck']\n"
     ]
    }
   ],
   "source": [
    "imgsz = check_img_size(imgsz, s=64)\n",
    "imgsz_test = check_img_size(imgsz_test, s=64)\n",
    "\n",
    "with open(data) as f:\n",
    "    data_dict = yaml.load(f, Loader=yaml.FullLoader)  # data dict\n",
    "\n",
    "check_dataset(data_dict)  # check    \n",
    "train_path = data_dict['train']\n",
    "val_path = data_dict['val']\n",
    "nc, names = (int(data_dict['nc']), data_dict['names'])  # number classes, names\n",
    "assert len(names) == nc, '%g names found for nc=%g dataset in %s' % (len(names), nc, opt.data)  # check\n",
    "print(names)"
   ]
  },
  {
   "cell_type": "code",
   "execution_count": null,
   "metadata": {},
   "outputs": [],
   "source": [
    "trainloader, trainset = create_dataloader(train_path, imgsz, batch_size, gs)\n",
    "mlc = np.concatenate(trainset.labels, 0)[:, 0].max()  # max label class\n",
    "nb = len(trainloader)  # number of batches\n",
    "assert mlc < nc, 'Label class %g exceeds nc=%g in %s. Possible class labels are 0-%g' % (mlc, nc, data, nc - 1)"
   ]
  },
  {
   "cell_type": "code",
   "execution_count": 6,
   "metadata": {},
   "outputs": [
    {
     "name": "stderr",
     "output_type": "stream",
     "text": [
      "Scanning labels /root/data/nuimages/labels/samples/CAM_BACK.cache3 (14873 found, 0 missing, 1572 empty, 0 duplicate, for 16445 images): 16445it [00:01, 13497.35it/s]\n"
     ]
    }
   ],
   "source": [
    "valloader, valset = create_dataloader(val_path, imgsz, batch_size, gs)\n",
    "mlc = np.concatenate(valset.labels, 0)[:, 0].max()  # max label class\n",
    "nb = len(valloader)  # number of batches\n",
    "assert mlc < nc, 'Label class %g exceeds nc=%g in %s. Possible class labels are 0-%g' % (mlc, nc, data, nc - 1)"
   ]
  },
  {
   "cell_type": "code",
   "execution_count": 123,
   "metadata": {},
   "outputs": [
    {
     "name": "stderr",
     "output_type": "stream",
     "text": [
      "100%|██████████| 4112/4112 [06:22<00:00, 10.74it/s]\n"
     ]
    },
    {
     "name": "stdout",
     "output_type": "stream",
     "text": [
      "[          0           2           3           4           5           6           7           8           9          10          11          12          13          14          15          16          17          18          20          21          22          23          24]\n",
      "Class                                             \tAttribute                               \tRecall@0.1\n",
      "animal                                            \tpedestrian.moving                       \t0.0588235294\n",
      "animal                                            \tpedestrian.sitting_lying                \t0.0000000000\n",
      "animal                                            \tpedestrian.standing                     \t0.0217391304\n",
      "animal                                            \tvertical_position.off_ground            \t0.0000000000\n",
      "animal                                            \tvertical_position.on_ground             \t0.0151515152\n",
      "human.pedestrian.adult                            \tpedestrian.moving                       \t0.7969710898\n",
      "human.pedestrian.adult                            \tpedestrian.sitting_lying                \t0.7012581035\n",
      "human.pedestrian.adult                            \tpedestrian.standing                     \t0.7436554961\n",
      "human.pedestrian.child                            \tpedestrian.moving                       \t0.0866454785\n",
      "human.pedestrian.child                            \tpedestrian.sitting_lying                \t0.1056367655\n",
      "human.pedestrian.child                            \tpedestrian.standing                     \t0.0873841564\n",
      "human.pedestrian.construction_worker              \tpedestrian.moving                       \t0.6140874103\n",
      "human.pedestrian.construction_worker              \tpedestrian.sitting_lying                \t0.5788742040\n",
      "human.pedestrian.construction_worker              \tpedestrian.standing                     \t0.6434746608\n",
      "human.pedestrian.personal_mobility                \tcycle.with_rider                        \t0.4570102733\n",
      "human.pedestrian.personal_mobility                \tcycle.without_rider                     \t0.7434517547\n",
      "human.pedestrian.police_officer                   \tpedestrian.moving                       \t0.0500000000\n",
      "human.pedestrian.police_officer                   \tpedestrian.sitting_lying                \t0.0000000000\n",
      "human.pedestrian.police_officer                   \tpedestrian.standing                     \t0.0135135135\n",
      "vehicle.bicycle                                   \tcycle.with_rider                        \t0.6806932279\n",
      "vehicle.bicycle                                   \tcycle.without_rider                     \t0.8231749250\n",
      "vehicle.bus.bendy                                 \tvehicle.moving                          \t0.0232558140\n",
      "vehicle.bus.bendy                                 \tvehicle.parked                          \t0.0909090909\n",
      "vehicle.bus.bendy                                 \tvehicle.stopped                         \t0.1250000000\n",
      "vehicle.bus.rigid                                 \tvehicle.moving                          \t0.6739505983\n",
      "vehicle.bus.rigid                                 \tvehicle.parked                          \t0.6461339811\n",
      "vehicle.bus.rigid                                 \tvehicle.stopped                         \t0.7263224603\n",
      "vehicle.car                                       \tvehicle.moving                          \t0.9062445511\n",
      "vehicle.car                                       \tvehicle.parked                          \t0.8817924627\n",
      "vehicle.car                                       \tvehicle.stopped                         \t0.8964730133\n",
      "vehicle.construction                              \tvehicle.moving                          \t0.6016385121\n",
      "vehicle.construction                              \tvehicle.parked                          \t0.6628787173\n",
      "vehicle.construction                              \tvehicle.stopped                         \t0.7060956496\n",
      "vehicle.emergency.ambulance                       \tvehicle.moving                          \t0.0000000000\n",
      "vehicle.emergency.ambulance                       \tvehicle.parked                          \t0.0000000000\n",
      "vehicle.emergency.ambulance                       \tvehicle.stopped                         \t0.0000000000\n",
      "vehicle.emergency.ambulance                       \tvehicle_light.emergency.flashing        \t0.0000000000\n",
      "vehicle.emergency.ambulance                       \tvehicle_light.emergency.not_flashing    \t0.0000000000\n",
      "vehicle.emergency.police                          \tvehicle.moving                          \t0.0666666667\n",
      "vehicle.emergency.police                          \tvehicle.parked                          \t0.0000000000\n",
      "vehicle.emergency.police                          \tvehicle.stopped                         \t0.0000000000\n",
      "vehicle.emergency.police                          \tvehicle_light.emergency.not_flashing    \t0.0294117647\n",
      "vehicle.motorcycle                                \tcycle.with_rider                        \t0.8996127598\n",
      "vehicle.motorcycle                                \tcycle.without_rider                     \t0.8270191349\n",
      "vehicle.trailer                                   \tvehicle.moving                          \t0.3714194725\n",
      "vehicle.trailer                                   \tvehicle.parked                          \t0.3282767774\n",
      "vehicle.trailer                                   \tvehicle.stopped                         \t0.3754302481\n",
      "vehicle.truck                                     \tvehicle.moving                          \t0.7506488463\n",
      "vehicle.truck                                     \tvehicle.parked                          \t0.7238767493\n",
      "vehicle.truck                                     \tvehicle.stopped                         \t0.7678522650\n",
      "vehicle.truck                                     \tvehicle_light.emergency.not_flashing    \t1.0000000000\n",
      "\n",
      "Class                               \tPricision@0.1\tRecall@0.1\tmAP for class\n",
      "animal                              \t0.0000000000\t0.0000000000\t0.0138837178\n",
      "human.pedestrian.adult              \t0.4789952590\t0.7742116328\t0.4131868784\n",
      "human.pedestrian.child              \t0.1440147847\t0.0827724821\t0.0226709296\n",
      "human.pedestrian.construction_worker\t0.3744823322\t0.6291155584\t0.2739054807\n",
      "human.pedestrian.personal_mobility  \t0.2966527017\t0.7282850780\t0.1618916682\n",
      "human.pedestrian.police_officer     \t0.0000000000\t0.0000000000\t0.0329323229\n",
      "human.pedestrian.stroller           \t0.4979825450\t0.3333333333\t0.1756504899\n",
      "human.pedestrian.wheelchair         \t0.0000000000\t0.0000000000\t0.0000000000\n",
      "movable_object.barrier              \t0.4302291228\t0.7957542266\t0.4410141257\n",
      "movable_object.debris               \t0.1824229372\t0.2893617021\t0.0618255708\n",
      "movable_object.pushable_pullable    \t0.2964232568\t0.5132192846\t0.2034038833\n",
      "movable_object.trafficcone          \t0.5410803441\t0.8355362947\t0.4900851090\n",
      "static_object.bicycle_rack          \t0.2954301825\t0.6916666667\t0.2295910867\n",
      "vehicle.bicycle                     \t0.4919457731\t0.8125937031\t0.4862247025\n",
      "vehicle.bus.bendy                   \t0.0000000000\t0.0000000000\t0.0085450572\n",
      "vehicle.bus.rigid                   \t0.4041679156\t0.6762272477\t0.4107258385\n",
      "vehicle.car                         \t0.5522887178\t0.8923832610\t0.6046260425\n",
      "vehicle.construction                \t0.3188258615\t0.6627996906\t0.2475909356\n",
      "vehicle.emergency.ambulance         \t0.0000000000\t0.0000000000\t0.0000000000\n",
      "vehicle.emergency.police            \t0.0000000000\t0.0000000000\t0.0004802199\n",
      "vehicle.motorcycle                  \t0.5022517132\t0.8538087520\t0.5102161883\n",
      "vehicle.trailer                     \t0.2594947163\t0.3436853002\t0.1041489193\n",
      "vehicle.truck                       \t0.4176859384\t0.7399004684\t0.4356071138\n",
      "\n",
      "Class                               \tAP@0.5:0.95\n",
      "animal                              \t0.031979  0.028320  0.027289  0.020105  0.019659  0.010202  0.001283  0.000000  0.000000  0.000000  \n",
      "human.pedestrian.adult              \t0.739526  0.705163  0.658924  0.598696  0.514950  0.411029  0.290450  0.158679  0.051293  0.003160  \n",
      "human.pedestrian.child              \t0.045664  0.040042  0.034022  0.031690  0.027369  0.021021  0.015100  0.010647  0.000932  0.000223  \n",
      "human.pedestrian.construction_worker\t0.560338  0.515369  0.465982  0.408516  0.331193  0.238768  0.142888  0.062977  0.012077  0.000948  \n",
      "human.pedestrian.personal_mobility  \t0.437513  0.382943  0.307705  0.217659  0.144524  0.078588  0.032253  0.010504  0.006961  0.000268  \n",
      "human.pedestrian.police_officer     \t0.045428  0.045372  0.045141  0.044981  0.043049  0.039302  0.034526  0.026012  0.005306  0.000206  \n",
      "human.pedestrian.stroller           \t0.352087  0.329228  0.327010  0.282882  0.233025  0.128965  0.076587  0.026371  0.000348  0.000000  \n",
      "human.pedestrian.wheelchair         \t0.000000  0.000000  0.000000  0.000000  0.000000  0.000000  0.000000  0.000000  0.000000  0.000000  \n",
      "movable_object.barrier              \t0.731041  0.689357  0.641045  0.584901  0.528080  0.460378  0.375734  0.261622  0.124171  0.013812  \n",
      "movable_object.debris               \t0.143418  0.127872  0.113429  0.093692  0.070155  0.042704  0.020646  0.005082  0.001158  0.000099  \n",
      "movable_object.pushable_pullable    \t0.379748  0.351192  0.324897  0.282658  0.242509  0.195166  0.138325  0.088003  0.029634  0.001908  \n",
      "movable_object.trafficcone          \t0.812589  0.778695  0.736950  0.681636  0.604772  0.509835  0.387280  0.254201  0.118160  0.016733  \n",
      "static_object.bicycle_rack          \t0.484733  0.436911  0.383888  0.338298  0.276591  0.203780  0.117510  0.047930  0.005933  0.000337  \n",
      "vehicle.bicycle                     \t0.763843  0.740778  0.713875  0.672891  0.618280  0.539797  0.421685  0.277973  0.106690  0.006434  \n",
      "vehicle.bus.bendy                   \t0.014977  0.013615  0.011471  0.010666  0.009797  0.008944  0.007959  0.005128  0.002178  0.000715  \n",
      "vehicle.bus.rigid                   \t0.620707  0.591998  0.563704  0.536459  0.499782  0.445580  0.378851  0.289846  0.159562  0.020771  \n",
      "vehicle.car                         \t0.871177  0.849037  0.818428  0.777382  0.723071  0.652374  0.560582  0.438824  0.281891  0.073494  \n",
      "vehicle.construction                \t0.566047  0.509823  0.443988  0.358337  0.271921  0.175895  0.102886  0.038784  0.007466  0.000761  \n",
      "vehicle.emergency.ambulance         \t0.000000  0.000000  0.000000  0.000000  0.000000  0.000000  0.000000  0.000000  0.000000  0.000000  \n",
      "vehicle.emergency.police            \t0.000534  0.000534  0.000534  0.000534  0.000534  0.000534  0.000534  0.000534  0.000534  0.000000  \n",
      "vehicle.motorcycle                  \t0.827459  0.793021  0.753458  0.706791  0.642451  0.544950  0.419873  0.286497  0.119343  0.008319  \n",
      "vehicle.trailer                     \t0.241949  0.205854  0.174009  0.147606  0.113882  0.086493  0.041434  0.024453  0.005715  0.000095  \n",
      "vehicle.truck                       \t0.673340  0.650105  0.618869  0.581689  0.535088  0.470011  0.383292  0.280148  0.144473  0.019055  \n",
      "\n",
      "Mean Pricision\tMean Recall\tmAP       \n",
      "0.2819293088\t0.4632458558\t0.2316611426\n"
     ]
    }
   ],
   "source": [
    "names = ['animal', 'flat.driveable_surface', 'human.pedestrian.adult', 'human.pedestrian.child', \n",
    "        'human.pedestrian.construction_worker', 'human.pedestrian.personal_mobility', 'human.pedestrian.police_officer', \n",
    "        'human.pedestrian.stroller', 'human.pedestrian.wheelchair', 'movable_object.barrier', 'movable_object.debris', \n",
    "        'movable_object.pushable_pullable', 'movable_object.trafficcone', 'static_object.bicycle_rack', 'vehicle.bicycle', \n",
    "        'vehicle.bus.bendy', 'vehicle.bus.rigid', 'vehicle.car', 'vehicle.construction', 'vehicle.ego', \n",
    "        'vehicle.emergency.ambulance', 'vehicle.emergency.police', 'vehicle.motorcycle', 'vehicle.trailer', 'vehicle.truck']\n",
    "attribute_names = ['cycle.with_rider', 'cycle.without_rider', 'pedestrian.moving', 'pedestrian.sitting_lying', 'pedestrian.standing',\n",
    "        'vehicle.moving', 'vehicle.parked', 'vehicle.stopped', 'vehicle_light.emergency.flashing', 'vehicle_light.emergency.not_flashing',\n",
    "        'vertical_position.off_ground', 'vertical_position.on_ground']\n",
    "p, r, ap, f1, ap_class, r_attribute, ap_attributes, raw_stats = stats_dataset(nuim_val, '/root/data/nuimages/images/', model, valloader, device, names, attribute_names, nc, conf_thres, iou_thres)"
   ]
  },
  {
   "cell_type": "code",
   "execution_count": 126,
   "metadata": {},
   "outputs": [
    {
     "name": "stdout",
     "output_type": "stream",
     "text": [
      "Class                               \tAttribute                           \tRecall@0.1\n",
      "animal                              \tpedestrian.moving                   \t0.0588235294\n",
      "animal                              \tpedestrian.sitting_lying            \t0.0000000000\n",
      "animal                              \tpedestrian.standing                 \t0.0217391304\n",
      "animal                              \tvertical_position.off_ground        \t0.0000000000\n",
      "animal                              \tvertical_position.on_ground         \t0.0151515152\n",
      "human.pedestrian.adult              \tpedestrian.moving                   \t0.7969710898\n",
      "human.pedestrian.adult              \tpedestrian.sitting_lying            \t0.7012581035\n",
      "human.pedestrian.adult              \tpedestrian.standing                 \t0.7436554961\n",
      "human.pedestrian.child              \tpedestrian.moving                   \t0.0866454785\n",
      "human.pedestrian.child              \tpedestrian.sitting_lying            \t0.1056367655\n",
      "human.pedestrian.child              \tpedestrian.standing                 \t0.0873841564\n",
      "human.pedestrian.construction_worker\tpedestrian.moving                   \t0.6140874103\n",
      "human.pedestrian.construction_worker\tpedestrian.sitting_lying            \t0.5788742040\n",
      "human.pedestrian.construction_worker\tpedestrian.standing                 \t0.6434746608\n",
      "human.pedestrian.personal_mobility  \tcycle.with_rider                    \t0.4570102733\n",
      "human.pedestrian.personal_mobility  \tcycle.without_rider                 \t0.7434517547\n",
      "human.pedestrian.police_officer     \tpedestrian.moving                   \t0.0500000000\n",
      "human.pedestrian.police_officer     \tpedestrian.sitting_lying            \t0.0000000000\n",
      "human.pedestrian.police_officer     \tpedestrian.standing                 \t0.0135135135\n",
      "vehicle.bicycle                     \tcycle.with_rider                    \t0.6806932279\n",
      "vehicle.bicycle                     \tcycle.without_rider                 \t0.8231749250\n",
      "vehicle.bus.bendy                   \tvehicle.moving                      \t0.0232558140\n",
      "vehicle.bus.bendy                   \tvehicle.parked                      \t0.0909090909\n",
      "vehicle.bus.bendy                   \tvehicle.stopped                     \t0.1250000000\n",
      "vehicle.bus.rigid                   \tvehicle.moving                      \t0.6739505983\n",
      "vehicle.bus.rigid                   \tvehicle.parked                      \t0.6461339811\n",
      "vehicle.bus.rigid                   \tvehicle.stopped                     \t0.7263224603\n",
      "vehicle.car                         \tvehicle.moving                      \t0.9062445511\n",
      "vehicle.car                         \tvehicle.parked                      \t0.8817924627\n",
      "vehicle.car                         \tvehicle.stopped                     \t0.8964730133\n",
      "vehicle.construction                \tvehicle.moving                      \t0.6016385121\n",
      "vehicle.construction                \tvehicle.parked                      \t0.6628787173\n",
      "vehicle.construction                \tvehicle.stopped                     \t0.7060956496\n",
      "vehicle.emergency.ambulance         \tvehicle.moving                      \t0.0000000000\n",
      "vehicle.emergency.ambulance         \tvehicle.parked                      \t0.0000000000\n",
      "vehicle.emergency.ambulance         \tvehicle.stopped                     \t0.0000000000\n",
      "vehicle.emergency.ambulance         \tvehicle_light.emergency.flashing    \t0.0000000000\n",
      "vehicle.emergency.ambulance         \tvehicle_light.emergency.not_flashing\t0.0000000000\n",
      "vehicle.emergency.police            \tvehicle.moving                      \t0.0666666667\n",
      "vehicle.emergency.police            \tvehicle.parked                      \t0.0000000000\n",
      "vehicle.emergency.police            \tvehicle.stopped                     \t0.0000000000\n",
      "vehicle.emergency.police            \tvehicle_light.emergency.not_flashing\t0.0294117647\n",
      "vehicle.motorcycle                  \tcycle.with_rider                    \t0.8996127598\n",
      "vehicle.motorcycle                  \tcycle.without_rider                 \t0.8270191349\n",
      "vehicle.trailer                     \tvehicle.moving                      \t0.3714194725\n",
      "vehicle.trailer                     \tvehicle.parked                      \t0.3282767774\n",
      "vehicle.trailer                     \tvehicle.stopped                     \t0.3754302481\n",
      "vehicle.truck                       \tvehicle.moving                      \t0.7506488463\n",
      "vehicle.truck                       \tvehicle.parked                      \t0.7238767493\n",
      "vehicle.truck                       \tvehicle.stopped                     \t0.7678522650\n",
      "vehicle.truck                       \tvehicle_light.emergency.not_flashing\t1.0000000000\n"
     ]
    }
   ],
   "source": [
    "print('{:<36}\\t{:<36}\\t{:<10}'.format('Class', 'Attribute', 'Recall@0.1'))\n",
    "for i, cls in enumerate(ap_class):\n",
    "        for j, attri in enumerate(ap_attributes):\n",
    "                if r_attribute[i, j, 0] != -1:\n",
    "                        print('{:<36}\\t{:<36}\\t{:.10f}'.format(names[cls], attribute_names[attri], r_attribute[i, j, 0]))"
   ]
  }
 ],
 "metadata": {
  "accelerator": "GPU",
  "colab": {
   "collapsed_sections": [],
   "machine_shape": "hm",
   "name": "yolov4_nuScenes.ipynb",
   "provenance": []
  },
  "gpuClass": "standard",
  "kernelspec": {
   "display_name": "Python 3",
   "language": "python",
   "name": "python3"
  },
  "language_info": {
   "codemirror_mode": {
    "name": "ipython",
    "version": 3
   },
   "file_extension": ".py",
   "mimetype": "text/x-python",
   "name": "python",
   "nbconvert_exporter": "python",
   "pygments_lexer": "ipython3",
   "version": "3.8.10"
  },
  "vscode": {
   "interpreter": {
    "hash": "31f2aee4e71d21fbe5cf8b01ff0e069b9275f58929596ceb00d14d90e3e16cd6"
   }
  }
 },
 "nbformat": 4,
 "nbformat_minor": 1
}
