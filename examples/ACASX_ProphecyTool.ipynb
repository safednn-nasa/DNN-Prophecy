{
  "cells": [
    {
      "cell_type": "markdown",
      "metadata": {
        "id": "IARS2WHWJWTo"
      },
      "source": [
        "**INSTALLATION**"
      ]
    },
    {
      "cell_type": "code",
      "execution_count": null,
      "metadata": {
        "colab": {
          "base_uri": "https://localhost:8080/"
        },
        "id": "k_mx5eC_3XLz",
        "outputId": "7c20b2b0-7f21-44b3-cee6-78c8be22e15e"
      },
      "outputs": [],
      "source": [
        "%cd ./DNN-Prophecy\n",
        "!pwd\n",
        "!ls -lt ./dataset_models/acasxu/"
      ]
    },
    {
      "cell_type": "code",
      "execution_count": null,
      "metadata": {
        "colab": {
          "base_uri": "https://localhost:8080/"
        },
        "id": "HVRFqXwIJqxO",
        "outputId": "1045b7e5-61da-4988-851d-4ec3a48c70fc"
      },
      "outputs": [],
      "source": [
        "import math\n",
        "import io\n",
        "import os\n",
        "from collections import namedtuple\n",
        "import sys\n",
        "import numpy as np\n",
        "import matplotlib.pyplot as plt\n",
        "import tensorflow as tf\n",
        "from sklearn import tree\n",
        "from tqdm import tqdm\n",
        "import operator\n",
        "import pandas as pd\n",
        "#tf.compat.v1.disable_eager_execution()\n",
        "#tf.compat.v1.enable_eager_execution()\n",
        "print(tf.__version__)"
      ]
    },
    {
      "cell_type": "code",
      "execution_count": null,
      "metadata": {
        "colab": {
          "base_uri": "https://localhost:8080/"
        },
        "id": "aD6Pxkus2x1w",
        "outputId": "fc9608a1-ac3c-4973-d30f-10049fda3709"
      },
      "outputs": [],
      "source": [
        "!pip install -r requirements.txt"
      ]
    },
    {
      "cell_type": "code",
      "execution_count": null,
      "metadata": {
        "id": "C1ViAk8CjCXd"
      },
      "outputs": [],
      "source": [
        "#! pip install onnx\n",
        "#! pip install onnx-tf\n",
        "\n",
        "#! pip install pybind11\n",
        "#! pip install cmake\n",
        "\n",
        "import torch\n",
        "import onnx\n",
        "#!pip install onnxruntime\n",
        "import onnxruntime\n"
      ]
    },
    {
      "cell_type": "code",
      "execution_count": null,
      "metadata": {
        "colab": {
          "base_uri": "https://localhost:8080/"
        },
        "id": "A5eQx5w2Y36T",
        "outputId": "7189c17b-6e4b-4912-aff7-5eef205cc5d2"
      },
      "outputs": [],
      "source": [
        "#!pip install maraboupy"
      ]
    },
    {
      "cell_type": "code",
      "execution_count": null,
      "metadata": {
        "colab": {
          "base_uri": "https://localhost:8080/"
        },
        "id": "PNg82QVK97oL",
        "outputId": "d2b9f244-2328-40f9-f6dd-ba6e26f498f0"
      },
      "outputs": [],
      "source": [
        "!pip install onnx2keras"
      ]
    },
    {
      "cell_type": "code",
      "execution_count": null,
      "metadata": {
        "colab": {
          "base_uri": "https://localhost:8080/",
          "height": 35
        },
        "id": "UvOjWW2sHI0z",
        "outputId": "ad669709-b1a6-4d3a-95e9-b6cd470a142e"
      },
      "outputs": [],
      "source": [
        "import shutil\n",
        "marabou_path = '/usr/local/lib/python3.11/dist-packages/maraboupy/'\n",
        "source_file1 = './dataset_models/MarabouNetworkONNX.py'\n",
        "source_file2 = './dataset_models/ONNXParser.py'\n",
        "    #destination_file1 = '/usr/local/lib/python3.11/dist-packages/maraboupy/MarabouNetworkONNX.py'\n",
        "destination_file1 = marabou_path + '/MarabouNetworkONNX.py'\n",
        "destination_file2 = marabou_path + '/parsers/ONNXParser.py'\n",
        "\n",
        "shutil.copy(source_file1, destination_file1)\n",
        "shutil.copy(source_file2, destination_file2)"
      ]
    },
    {
      "cell_type": "markdown",
      "metadata": {
        "id": "7C850q2U1eaU"
      },
      "source": [
        "**GET MODEL AND DATA**"
      ]
    },
    {
      "cell_type": "code",
      "execution_count": null,
      "metadata": {
        "colab": {
          "base_uri": "https://localhost:8080/"
        },
        "id": "YAAxOiPwD7Rz",
        "outputId": "87024312-b114-4381-e723-613e5d1b8d6c"
      },
      "outputs": [],
      "source": [
        "acas_train = np.empty([384221,5],dtype=float)\n",
        "acas_train_labels = np.zeros(384221,dtype=int)\n",
        "\n",
        "def read_inputs_from_file(inputFile):\n",
        "    global acas_train, acas_train_labels, num\n",
        "    with open(inputFile) as f:\n",
        "        lines = f.readlines()\n",
        "        print(len(lines), \"examples\")\n",
        "        acas_train = np.empty([len(lines),5],dtype=float)\n",
        "        acas_train_labels = np.zeros(len(lines),dtype=int)\n",
        "\n",
        "        for l in range(len(lines)):\n",
        "            k = [float(stringIn) for stringIn in lines[l].split(',')]\n",
        "            if len(k) > 5:\n",
        "              lab = int(k[5])\n",
        "              acas_train_labels[l+num] = lab\n",
        "\n",
        "            count = 0\n",
        "            for i in range(0,5):\n",
        "                acas_train[l+num][i] = k[i]\n",
        "\n",
        "!wget https://raw.githubusercontent.com/safednn-nasa/prophecy_DNN/master/clusterinACAS_0_short.csv -O ./clusterinACAS_0_shrt.csv\n",
        "\n",
        "num = 0\n",
        "\n",
        "\n",
        "read_inputs_from_file('./clusterinACAS_0_shrt.csv')\n",
        "\n",
        "\n",
        "\n",
        "print((acas_train).shape)\n",
        "\n",
        "\n",
        "train_len = (len(acas_train) * 0.75)\n",
        "train_data = acas_train[:int(train_len)]\n",
        "train_labels = acas_train_labels[:int(train_len)]\n",
        "\n",
        "test_data = acas_train[int(train_len):]\n",
        "test_labels = acas_train_labels[int(train_len):]\n",
        "\n",
        "print((train_data).shape)\n",
        "print((train_labels).shape)\n",
        "print((test_data).shape)\n",
        "print((test_labels).shape)\n",
        "\n",
        "\n"
      ]
    },
    {
      "cell_type": "code",
      "execution_count": null,
      "metadata": {
        "colab": {
          "base_uri": "https://localhost:8080/"
        },
        "id": "07lC6JhgAxoX",
        "outputId": "43022df7-37d6-44a3-8a5c-e77cf75f6987"
      },
      "outputs": [],
      "source": [
        "import onnx\n",
        "from onnx2keras import onnx_to_keras\n",
        "\n",
        "onnx_model = onnx.load('./dataset_models/acasxu/ACASXU_experimental_v2a_1_1.onnx')\n",
        "print(\"ONNX:\")\n",
        "onnx.checker.check_model(onnx_model)\n",
        "\n",
        "print(onnx.helper.printable_graph(onnx_model.graph))"
      ]
    },
    {
      "cell_type": "code",
      "execution_count": null,
      "metadata": {
        "colab": {
          "base_uri": "https://localhost:8080/"
        },
        "id": "vYVmX8Jq-M8D",
        "outputId": "baffd6bd-17d0-483c-bc69-659185952977"
      },
      "outputs": [],
      "source": [
        "# Convert to Keras model using the custom naming policy\n",
        "keras_model = onnx_to_keras(onnx_model,['input'])#,name_policy=\"short\")#custom_name_policy)\n",
        "print(\"KERAS:\")\n",
        "keras_model.summary()\n",
        "\n"
      ]
    },
    {
      "cell_type": "code",
      "execution_count": null,
      "metadata": {
        "colab": {
          "base_uri": "https://localhost:8080/"
        },
        "id": "EG8loO3eCZ5B",
        "outputId": "4711d648-d501-48b5-cf74-76e5a035f380"
      },
      "outputs": [
        {
          "name": "stderr",
          "output_type": "stream",
          "text": [
            "/usr/local/lib/python3.11/dist-packages/keras/src/engine/training.py:3079: UserWarning: You are saving your model as an HDF5 file via `model.save()`. This file format is considered legacy. We recommend using instead the native Keras format, e.g. `model.save('my_model.keras')`.\n",
            "  saving_api.save_model(\n",
            "WARNING:tensorflow:Compiled the loaded model, but the compiled metrics have yet to be built. `model.compile_metrics` will be empty until you train or evaluate the model.\n"
          ]
        }
      ],
      "source": [
        "if os.path.exists('./dataset_models/acasxu/acasx_onnx_keras.h5'):\n",
        "  os.remove('./dataset_models/acasxu/acasx_onnx_keras.h5')\n",
        "# Save Keras model\n",
        "keras_model.save('./dataset_models/acasxu/acasx_onnx_keras.h5')"
      ]
    },
    {
      "cell_type": "code",
      "execution_count": null,
      "metadata": {
        "colab": {
          "base_uri": "https://localhost:8080/"
        },
        "id": "p1C-7_Z_KU1C",
        "outputId": "ed8a2c8f-5f54-4474-a895-db46deb35fd5"
      },
      "outputs": [
        {
          "name": "stderr",
          "output_type": "stream",
          "text": [
            "WARNING:tensorflow:No training configuration found in the save file, so the model was *not* compiled. Compile it manually.\n"
          ]
        },
        {
          "name": "stdout",
          "output_type": "stream",
          "text": [
            "(288165, 5)\n",
            "(96056, 5)\n",
            "(288165, 5)\n",
            "(96056, 5)\n",
            "Tensor(\"Placeholder:0\", shape=(None, 50), dtype=float32) Tensor(\"Placeholder_1:0\", shape=(50,), dtype=float32)\n",
            "Tensor(\"Placeholder:0\", shape=(None, 50), dtype=float32) Tensor(\"Placeholder_1:0\", shape=(50,), dtype=float32)\n",
            "Tensor(\"Placeholder:0\", shape=(None, 50), dtype=float32) Tensor(\"Placeholder_1:0\", shape=(50,), dtype=float32)\n",
            "Tensor(\"Placeholder:0\", shape=(None, 50), dtype=float32) Tensor(\"Placeholder_1:0\", shape=(50,), dtype=float32)\n",
            "Tensor(\"Placeholder:0\", shape=(None, 50), dtype=float32) Tensor(\"Placeholder_1:0\", shape=(50,), dtype=float32)\n",
            "Tensor(\"Placeholder:0\", shape=(None, 50), dtype=float32) Tensor(\"Placeholder_1:0\", shape=(50,), dtype=float32)\n",
            "Tensor(\"Placeholder:0\", shape=(None, 5), dtype=float32) Tensor(\"Placeholder_1:0\", shape=(5,), dtype=float32)\n",
            "(288165, 1, 1, 5)\n",
            "(96056, 1, 1, 5)\n",
            "Tensor(\"model/Operation_1_MatMul/MatMul:0\", shape=(None, 50), dtype=float32) Tensor(\"model/Operation_1_Add_const2/Const:0\", shape=(50,), dtype=float32)\n",
            "Tensor(\"model/Operation_2_MatMul/MatMul:0\", shape=(None, 50), dtype=float32) Tensor(\"model/Operation_2_Add_const2/Const:0\", shape=(50,), dtype=float32)\n",
            "Tensor(\"model/Operation_3_MatMul/MatMul:0\", shape=(None, 50), dtype=float32) Tensor(\"model/Operation_3_Add_const2/Const:0\", shape=(50,), dtype=float32)\n",
            "Tensor(\"model/Operation_4_MatMul/MatMul:0\", shape=(None, 50), dtype=float32) Tensor(\"model/Operation_4_Add_const2/Const:0\", shape=(50,), dtype=float32)\n",
            "Tensor(\"model/Operation_5_MatMul/MatMul:0\", shape=(None, 50), dtype=float32) Tensor(\"model/Operation_5_Add_const2/Const:0\", shape=(50,), dtype=float32)\n",
            "Tensor(\"model/Operation_6_MatMul/MatMul:0\", shape=(None, 50), dtype=float32) Tensor(\"model/Operation_6_Add_const2/Const:0\", shape=(50,), dtype=float32)\n",
            "Tensor(\"model/linear_7_MatMul/MatMul:0\", shape=(None, 5), dtype=float32) Tensor(\"model/linear_7_Add_const2/Const:0\", shape=(5,), dtype=float32)\n",
            "9006/9006 [==============================] - 10s 1ms/step\n",
            "0.7807888\n",
            "3002/3002 [==============================] - 4s 1ms/step\n"
          ]
        }
      ],
      "source": [
        "from tensorflow import keras\n",
        "\n",
        "x_train = np.array(train_data)\n",
        "y_train = np.eye(5)[train_labels]\n",
        "y_train1 = tf.argmax(y_train, 1)\n",
        "\n",
        "x_test = np.array(test_data)\n",
        "y_test = np.eye(5)[test_labels]\n",
        "y_test1 = tf.argmax(y_test, 1)\n",
        "\n",
        "print(np.shape(x_train))\n",
        "print(np.shape(x_test))\n",
        "print(np.shape(y_train))\n",
        "print(np.shape(y_test))\n",
        "\n",
        "\n",
        "np.save('./x_train_npy.npy', x_train)\n",
        "np.save('./x_test_npy.npy', x_test)\n",
        "np.save('./y_train_npy.npy', y_train1)\n",
        "np.save('./y_test_npy.npy', y_test1)\n",
        "\n",
        "\n",
        "\n",
        "model=keras.models.load_model('./dataset_models/acasxu/acasx_onnx_keras.h5')\n",
        "#model.compile(optimizer='adam', loss='categorical_crossentropy', metrics=['accuracy'])\n",
        "\n",
        "x_train_rshape = x_train.reshape(-1, 1, 1, 5)\n",
        "x_test_rshape = x_test.reshape(-1, 1, 1, 5)\n",
        "print(np.shape(x_train_rshape))\n",
        "print(np.shape(x_test_rshape))\n",
        "np.save('./x_train_rshape.npy', x_train_rshape)\n",
        "np.save('./x_test_rshape.npy', x_test_rshape)\n",
        "\n",
        "y_predict = model.predict(x_train_rshape)\n",
        "y_predict1 = tf.argmin(y_predict, 1)\n",
        "np.save('./y_predict_npy.npy', y_predict1)\n",
        "\n",
        "correct_prediction1 = tf.equal(tf.argmin(y_predict, 1), tf.argmax(y_train, 1))\n",
        "accuracy1 = tf.reduce_mean(tf.cast(correct_prediction1, tf.float32))\n",
        "print(accuracy1.numpy())\n",
        "\n",
        "y_predict_test = model.predict(x_test_rshape)\n",
        "y_predict1_test = tf.argmin(y_predict_test, 1)\n",
        "np.save('./y_predict_test_npy.npy', y_predict1_test)"
      ]
    },
    {
      "cell_type": "markdown",
      "metadata": {
        "id": "LM3Qo9xNKBbB"
      },
      "source": [
        "**INVOKE PROPHECY TO EXTRACT RULES**"
      ]
    },
    {
      "cell_type": "markdown",
      "metadata": {
        "id": "t-HUDTP1fKB-"
      },
      "source": [
        "**PARAMETERS: rules per label (based on given labels array), rules in terms of neuron values, TOP rules (highest train recall), just from layer \"rule_3\".**"
      ]
    },
    {
      "cell_type": "code",
      "execution_count": null,
      "metadata": {
        "colab": {
          "base_uri": "https://localhost:8080/"
        },
        "id": "4Qrjmx_4fKwx",
        "outputId": "d6c586f1-7c48-4579-97da-0cf96ae828c4"
      },
      "outputs": [],
      "source": [
        "import os\n",
        "import shutil\n",
        "\n",
        "if os.path.exists('/results/acasxu/rules/'):\n",
        "  shutil.rmtree('/results/acasxu/rules/')\n",
        "\n",
        "os.makedirs('/results/acasxu/rules/')\n",
        "\n",
        "!pwd\n",
        "!python -m prophecy.main -m './dataset_models/acasxu/acasx_onnx_keras.h5' -wd './results/acasxu/rules/' analyze -tx ./x_train_rshape.npy -ty ./y_predict_npy.npy -vx ./x_test_rshape.npy -vy ./y_predict_test_npy.npy -layer_name 'relu_3' -type 3 -top True"
      ]
    },
    {
      "cell_type": "code",
      "execution_count": null,
      "metadata": {
        "colab": {
          "base_uri": "https://localhost:8080/",
          "height": 205
        },
        "id": "hH5ZDvviUbac",
        "outputId": "e7c137e7-af6a-4fce-f2db-e87105ef92e1"
      },
      "outputs": [],
      "source": [
        "import pandas as pd\n",
        "_output_path = \"./results/acasxu/rules/ruleset.csv\"\n",
        "\n",
        "\n",
        "print(\"****** RULES ********\")\n",
        "#df_op = pd.read_csv(_output_path)\n",
        "#df_op\n",
        "\n",
        "ruleset = pd.read_csv(_output_path)\n",
        "ruleset = ruleset[ruleset['label'] == 0]\n",
        "## TRY SORTING BY TEST PRECISION?\n",
        "ruleset = ruleset.sort_values(by=['support'], ascending=False)\n",
        "ruleset = ruleset.reset_index()\n",
        "ruleset = ruleset[ruleset.index == 0]\n",
        "ruleset"
      ]
    },
    {
      "cell_type": "code",
      "execution_count": null,
      "metadata": {
        "colab": {
          "base_uri": "https://localhost:8080/"
        },
        "id": "L-8-37TZF1Sg",
        "outputId": "d5c6a481-d381-4bf6-8232-61eb12fe8622"
      },
      "outputs": [],
      "source": [
        "!ls -lt '/usr/local/lib/python3.11/dist-packages/maraboupy/'"
      ]
    },
    {
      "cell_type": "code",
      "execution_count": null,
      "metadata": {
        "colab": {
          "base_uri": "https://localhost:8080/"
        },
        "id": "3ZUUm44YDJX7",
        "outputId": "5b96ddb5-71ba-478e-c520-43f1b68d4dee"
      },
      "outputs": [],
      "source": [
        "!python -m prophecy.main -m './dataset_models/acasxu/acasx_onnx_keras.h5' -wd './results/acasxu/rules/' prove -tx ./x_train_rshape.npy -ty ./y_predict_npy.npy  -mp '/usr/local/lib/python3.11/dist-packages/maraboupy/' -onx './dataset_models/acasxu/ACASXU_experimental_v2a_1_1.onnx' -onx_map './dataset_models/acasxu/acasx_onnx_map.csv' -label 0 -pred True -min_const True"
      ]
    }
  ],
  "metadata": {
    "accelerator": "GPU",
    "colab": {
      "gpuType": "T4",
      "machine_shape": "hm",
      "provenance": []
    },
    "kernelspec": {
      "display_name": "Python 3",
      "name": "python3"
    },
    "language_info": {
      "name": "python"
    }
  },
  "nbformat": 4,
  "nbformat_minor": 0
}
