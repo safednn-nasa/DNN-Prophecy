{
  "cells": [
    {
      "cell_type": "code",
      "execution_count": null,
      "metadata": {
        "colab": {
          "base_uri": "https://localhost:8080/"
        },
        "id": "k_mx5eC_3XLz",
        "outputId": "51633fc1-9e35-4b36-8385-8da4f6f55492"
      },
      "outputs": [],
      "source": [
        "%cd ./DNN-Prophecy\n",
        "!pwd\n",
        "!ls -lt dataset_models/airfoil_self_noise/"
      ]
    },
    {
      "cell_type": "code",
      "execution_count": null,
      "metadata": {
        "colab": {
          "base_uri": "https://localhost:8080/"
        },
        "id": "aD6Pxkus2x1w",
        "outputId": "7caa499e-ce52-4996-8cdd-37020831bded"
      },
      "outputs": [],
      "source": [
        "!pip install -r requirements.txt"
      ]
    },
    {
      "cell_type": "markdown",
      "metadata": {
        "id": "NCIpSDjtvTkJ"
      },
      "source": [
        "**LOAD DATA**"
      ]
    },
    {
      "cell_type": "code",
      "execution_count": null,
      "metadata": {
        "colab": {
          "base_uri": "https://localhost:8080/"
        },
        "id": "BtWiGSFS5Ibe",
        "outputId": "fa16163a-3a33-4f12-d378-c028dfb87ea6"
      },
      "outputs": [
        {
          "name": "stdout",
          "output_type": "stream",
          "text": [
            "(1503, 6)\n",
            "EXAMPLE RAW INPUT AND OUTPUT.\n",
            "[800.0, 0.0, 0.3048, 71.3, 0.00266337]\n",
            "126.201\n",
            "EXAMPLE NORM INPUT AND OUTPUT.\n",
            "[-0.6620218 -1.1463989  1.7992973  1.312917  -0.6448043]\n",
            "0.1979379\n"
          ]
        }
      ],
      "source": [
        "import numpy as np\n",
        "data = np.genfromtxt(\"./dataset_models/airfoil_self_noise/airfoil_self_noise.csv\", delimiter=',')\n",
        "print(data.shape)\n",
        "\n",
        "inputstr = data[:,0:5]\n",
        "outputstr = data[:,5]\n",
        "#print(inputstr.shape)\n",
        "#print(inputstr[0])\n",
        "\n",
        "inputs = []\n",
        "outputs = []\n",
        "for indx in range(0, len(inputstr)):\n",
        "  input = []\n",
        "  for indx1 in range(0, len(inputstr[indx])):\n",
        "    val = np.float32(inputstr[indx][indx1])\n",
        "    input.append(val)\n",
        "    #if (indx == 0):\n",
        "    #  print(type(val), val)\n",
        "    #  print(input)\n",
        "  inputs.append(input)\n",
        "  outputs.append(np.float32(outputstr[indx]))\n",
        "\n",
        "print(\"EXAMPLE RAW INPUT AND OUTPUT.\")\n",
        "print(inputs[0])\n",
        "print(outputs[0])\n",
        "\n",
        "def z_score_normalize(data):\n",
        "    \"\"\"\n",
        "    Applies z-score normalization (subtracts mean, divides by standard deviation) to the input data.\n",
        "\n",
        "    Args:\n",
        "        data (numpy.ndarray): The data to be normalized. Each row is a sample, and each column is a feature.\n",
        "\n",
        "    Returns:\n",
        "        normalized_data (numpy.ndarray): The normalized data.\n",
        "        mean (numpy.ndarray): The mean of the original data (per feature).\n",
        "        std (numpy.ndarray): The standard deviation of the original data (per feature).\n",
        "    \"\"\"\n",
        "    # Convert data to NumPy array if it's a list\n",
        "    data = np.asarray(data)\n",
        "\n",
        "    mean = np.mean(data, axis=0)\n",
        "    std = np.std(data, axis=0)\n",
        "\n",
        "    # Avoid division by zero\n",
        "    # Check if std is a scalar (for 1D data)\n",
        "    if np.isscalar(std):\n",
        "        if std == 0:\n",
        "            std = 1\n",
        "    else:  # For 2D data (or higher)\n",
        "        std[std == 0] = 1\n",
        "\n",
        "    normalized_data = (data - mean) / std\n",
        "    return normalized_data, mean, std\n",
        "\n",
        "(normalized_data, mean, std)= z_score_normalize(inputs)\n",
        "print(\"EXAMPLE NORM INPUT AND OUTPUT.\")\n",
        "print(normalized_data[0])\n",
        "(normalized_output, mean, std)= z_score_normalize(outputs)\n",
        "print(normalized_output[0])\n"
      ]
    },
    {
      "cell_type": "markdown",
      "metadata": {
        "id": "oyeeofP-wLYZ"
      },
      "source": [
        "**LOAD ONNX AND H5 MODELS**"
      ]
    },
    {
      "cell_type": "code",
      "execution_count": null,
      "metadata": {
        "colab": {
          "base_uri": "https://localhost:8080/"
        },
        "id": "d5RzIjqHeLRl",
        "outputId": "5dcfde82-1af3-417c-acb7-b08b80ddfcc9"
      },
      "outputs": [],
      "source": [
        "import torch\n",
        "import onnx\n",
        "import onnxruntime\n",
        "\n",
        "onnx_model = onnx.load('./dataset_models/airfoil_self_noise/renamed_model.onnx')\n",
        "onnx.checker.check_model(onnx_model)\n",
        "from onnx import helper\n",
        "graph = helper.printable_graph(onnx_model.graph)  # Get a printable representation of the graph\n",
        "print(graph)  # Print the textual representation of the graph"
      ]
    },
    {
      "cell_type": "code",
      "execution_count": null,
      "metadata": {
        "colab": {
          "base_uri": "https://localhost:8080/"
        },
        "id": "yGyU8ejelk9J",
        "outputId": "f33e0ff6-e73b-4ba0-96f8-d7097ccc3aa8"
      },
      "outputs": [],
      "source": [
        "session = onnxruntime.InferenceSession(\"./dataset_models/airfoil_self_noise/renamed_model.onnx\", None)\n",
        "input_name = session.get_inputs()[0].name\n",
        "output_name = session.get_outputs()[0].name\n",
        "#print(input_name)\n",
        "#print(output_name)\n",
        "\n",
        "\n",
        "results = []\n",
        "for indx in range(0,len(normalized_data)):\n",
        "  input_data = (normalized_data[indx]).reshape(1, -1).astype(np.float32)\n",
        "  result = session.run([output_name], {input_name: input_data})\n",
        "  results.append(result[0][0][0])\n",
        "\n",
        "\n",
        "\n",
        "from sklearn.metrics import r2_score\n",
        "print(np.shape(results), np.shape(outputs))\n",
        "r2 = r2_score(results,normalized_output)\n",
        "print(\"R2 Score of ONNX MODEL:\", r2)"
      ]
    },
    {
      "cell_type": "code",
      "execution_count": null,
      "metadata": {
        "colab": {
          "base_uri": "https://localhost:8080/"
        },
        "id": "3Bp8LeQXluhs",
        "outputId": "1a918965-b9a6-47df-d7b3-cbef2a696dfc"
      },
      "outputs": [],
      "source": [
        "import numpy as np\n",
        "\n",
        "import tensorflow as tf\n",
        "import keras\n",
        "\n",
        "\n",
        "print('Loading the model:')\n",
        "model_h5=tf.keras.models.load_model(\"./dataset_models/airfoil_self_noise/model.h5\")\n",
        "print(\"Printing summary of the keras model:\")\n",
        "model_h5.summary()\n",
        "\n",
        "# SPLIT TRAIN AND TEST SETS\n",
        "len_train = int(0.80*len(normalized_data))\n",
        "\n",
        "normalized_data_train = normalized_data[0:len_train]\n",
        "normalized_data_test = normalized_data[len_train:]\n",
        "normalized_output_train = normalized_output[0:len_train]\n",
        "normalized_output_test = normalized_output[len_train:]\n",
        "\n",
        "# GET PREDS\n",
        "results_h5_train = model_h5.predict(normalized_data_train)\n",
        "print(np.shape(results_h5_train), np.shape(normalized_output_train))\n",
        "results_h5_train_flat = results_h5_train.flatten()\n",
        "print(np.shape(results_h5_train_flat))\n",
        "print(np.shape(normalized_output_train))\n",
        "r2 = r2_score(results_h5_train_flat,normalized_output_train)\n",
        "print(\"H5 R2 Score:\", r2)\n",
        "\n",
        "mean_abs_err = np.mean(np.abs(results_h5_train_flat - normalized_output_train))\n",
        "print(\"H5 Mean Absolute Error:\", mean_abs_err)"
      ]
    },
    {
      "cell_type": "markdown",
      "metadata": {
        "id": "zhlHR5N-wnqx"
      },
      "source": [
        "**LABEL REGRESSION OUTPUTS, 0 ( Y-YIDEAL > 0.192 (MAE)) ELSE 1**"
      ]
    },
    {
      "cell_type": "code",
      "execution_count": null,
      "metadata": {
        "colab": {
          "base_uri": "https://localhost:8080/"
        },
        "id": "TeUzRN3hvJUa",
        "outputId": "a889e028-4ba5-440e-a2cd-e86569100383"
      },
      "outputs": [],
      "source": [
        "labels_train = []\n",
        "op_vals_cor = []\n",
        "op_vals_inc = []\n",
        "for indx in range(0,len(normalized_data_train)):\n",
        "  if (np.abs(normalized_output_train[indx] - results_h5_train_flat[indx]) >= 0.19200696):\n",
        "    labels_train.append(0)\n",
        "    op_vals_inc.append(results_h5_train_flat[indx])\n",
        "  else:\n",
        "    labels_train.append(1)\n",
        "    op_vals_cor.append(results_h5_train_flat[indx])\n",
        "\n",
        "print(\"TR COUNT 1:\", labels_train.count(1))\n",
        "print(\"TR COUNT 0:\", labels_train.count(0))\n",
        "\n",
        "print(\"MEAN CORRECT OP VAL:\", np.mean(op_vals_cor))\n",
        "print(\"MAX CORRECT OP VAL:\", np.max(op_vals_cor))\n",
        "print(\"MIN CORRECT OP VAL:\", np.min(op_vals_cor))\n",
        "std_dev_cor = np.std(op_vals_cor)\n",
        "print(\"STD CORRECT OP VAL:\", std_dev_cor)\n",
        "\n",
        "print(\"MEAN INCORRECT OP VAL:\", np.mean(op_vals_inc))\n",
        "print(\"MAX INCORRECT OP VAL:\", np.max(op_vals_inc))\n",
        "print(\"MIN INCORRECT OP VAL:\", np.min(op_vals_inc))\n",
        "std_dev_inc = np.std(op_vals_inc)\n",
        "print(\"STD CORRECT OP VAL:\", std_dev_inc)\n",
        "\n",
        "\n",
        "\n",
        "results_h5_test = model_h5.predict(normalized_data_test)\n",
        "results_h5_test_flat = results_h5_test.flatten()\n",
        "\n",
        "\n",
        "labels_test = []\n",
        "for indx in range(0,len(normalized_data_test)):\n",
        "  if (np.abs(normalized_output_test[indx] - results_h5_test_flat[indx]) >= 0.19200696):\n",
        "    labels_test.append(0)\n",
        "  else:\n",
        "    labels_test.append(1)\n",
        "\n",
        "print(\"TEST COUNT 1:\", labels_test.count(1))\n",
        "print(\"TEST COUNT 0:\", labels_test.count(0))\n",
        "\n"
      ]
    },
    {
      "cell_type": "markdown",
      "metadata": {
        "id": "Z3gop9vhZk7s"
      },
      "source": [
        "**SENSITIVITY ANALYSIS**"
      ]
    },
    {
      "cell_type": "code",
      "execution_count": null,
      "metadata": {
        "colab": {
          "base_uri": "https://localhost:8080/"
        },
        "id": "nePy4jhtZoy7",
        "outputId": "170233cd-7d28-447c-f4d2-4b15695dabad"
      },
      "outputs": [],
      "source": [
        "from maraboupy import Marabou\n",
        "from maraboupy import MarabouNetworkONNX\n",
        "from maraboupy.MarabouCore import *\n",
        "from maraboupy.MarabouPythonic import *\n",
        "\n",
        "## PICK AN INPUT FROM SET OF INPUTS WITH MAE < 0.192\n",
        "cor_indices = np.where(np.array(labels_train) ==1)[0]\n",
        "print(len(cor_indices))\n",
        "print(\"INPUT:\", normalized_data_train[cor_indices[0]])\n",
        "print(\"IDEAL OUTPUT:\", normalized_output_train[cor_indices[0]])\n",
        "print(\"PREDICTION:\", results_h5_train_flat[cor_indices[0]])\n",
        "\n",
        "## VARY INPUT DIMENSIONS BY EPSILON\n",
        "eps = 0.1\n",
        "## CHECK OUTPUT IS WITHIN MAE\n",
        "mae = 0.192\n",
        "\n",
        "\n",
        "filename = \"./dataset_models/airfoil_self_noise/renamed_model.onnx\"\n",
        "network_a = Marabou.read_onnx(filename)\n",
        "print(\"INPUT VARS\")\n",
        "invars = network_a.inputVars[0][0].flatten()\n",
        "input_flat = (normalized_data_train[cor_indices[0]]).flatten()\n",
        "for indx in range(0,len(invars)):\n",
        "  network_a.setLowerBound(invars[indx],input_flat[indx] - eps)\n",
        "  network_a.setUpperBound(invars[indx],input_flat[indx] + eps)\n",
        "\n",
        "print(\"OUTPUT VARS\")\n",
        "outvars = network_a.outputVars[0].flatten()\n",
        "out_max = (results_h5_train_flat[cor_indices[0]]) + mae\n",
        "\n",
        "network_a.setLowerBound(outvars[0],out_max) # F(X) > out_max should be UNSAT\n",
        "#network_a.setUpperBound(outvars,out_min)\n",
        "\n",
        "print(\"F(X) > out_max should be UNSAT\")\n",
        "options1 = Marabou.createOptions(verbosity = 1,timeoutInSeconds=200)\n",
        "sat_unsat,vals,stats = network_a.solve(options = options1)\n",
        "print(\"sat_unsat:\", sat_unsat)\n",
        "\n",
        "if (sat_unsat == 'sat'):\n",
        "  print(\"SAT:\")\n",
        "  print(\"vals:\", vals)\n",
        "\n",
        "\n",
        "if (sat_unsat == 'unsat'):\n",
        "   print(\"RULE PROVED!!\")\n",
        "\n",
        "#################################################\n",
        "print(\"INPUT VARS\")\n",
        "network_a = Marabou.read_onnx(filename)\n",
        "invars = network_a.inputVars[0][0].flatten()\n",
        "input_flat = (normalized_data_train[cor_indices[0]]).flatten()\n",
        "for indx in range(0,len(invars)):\n",
        "  network_a.setLowerBound(invars[indx],input_flat[indx] - eps)\n",
        "  network_a.setUpperBound(invars[indx],input_flat[indx] + eps)\n",
        "\n",
        "print(\"OUTPUT VARS\")\n",
        "outvars = network_a.outputVars[0].flatten()\n",
        "out_min = (results_h5_train_flat[cor_indices[0]]) - mae\n",
        "network_a.setUpperBound(outvars[0],out_min)\n",
        "print(\"F(X) < out_min should be UNSAT\")\n",
        "options1 = Marabou.createOptions(verbosity = 1,timeoutInSeconds=200)\n",
        "sat_unsat,vals,stats = network_a.solve(options = options1)\n",
        "print(\"sat_unsat:\", sat_unsat)\n",
        "\n",
        "if (sat_unsat == 'sat'):\n",
        "  print(\"SAT:\")\n",
        "  print(\"vals:\", vals)\n",
        "\n",
        "\n",
        "if (sat_unsat == 'unsat'):\n",
        "   print(\"RULE PROVED!!\")\n",
        "\n",
        "\n",
        "\n"
      ]
    },
    {
      "cell_type": "code",
      "execution_count": null,
      "metadata": {
        "id": "DuVKtNFj0Y2o"
      },
      "outputs": [],
      "source": [
        "np.save('./x_train_npy.npy',normalized_data_train)\n",
        "np.save('./y_train_npy.npy',labels_train)\n",
        "np.save('./x_test_npy.npy',normalized_data_test)\n",
        "np.save('./y_test_npy.npy',labels_test)"
      ]
    },
    {
      "cell_type": "code",
      "execution_count": null,
      "metadata": {
        "colab": {
          "base_uri": "https://localhost:8080/"
        },
        "id": "V39UozCi-Cbe",
        "outputId": "6ec711e1-97a2-48eb-cb6c-5cb12bb0ce09"
      },
      "outputs": [],
      "source": [
        "!python -m prophecy.main -m './dataset_models/airfoil_self_noise/model.h5' -wd './results/airfoil_self_noise/' analyze -h"
      ]
    },
    {
      "cell_type": "markdown",
      "metadata": {
        "id": "v5PFQoSxzyJi"
      },
      "source": [
        "**Rules for behavior (0/1), from layer 5 based on (on/off) activations**"
      ]
    },
    {
      "cell_type": "code",
      "execution_count": null,
      "metadata": {
        "colab": {
          "base_uri": "https://localhost:8080/"
        },
        "id": "QLo6ufSnneFD",
        "outputId": "d1fd9483-0e0d-4d7e-a0c2-e4b425b51b3c"
      },
      "outputs": [],
      "source": [
        "!python -m prophecy.main -m './dataset_models/airfoil_self_noise/model.h5' -wd './results/airfoil_self_noise/' analyze -tx ./x_train_npy.npy -ty ./y_train_npy.npy -vx ./x_test_npy.npy -vy ./y_test_npy.npy -layer 'layer_5_output_0' -type 3 -acts True"
      ]
    },
    {
      "cell_type": "code",
      "execution_count": null,
      "metadata": {
        "colab": {
          "base_uri": "https://localhost:8080/"
        },
        "id": "x9rH6uFx1LGX",
        "outputId": "23b498ef-fccd-48ea-999b-f739c6a0bec7"
      },
      "outputs": [
        {
          "name": "stdout",
          "output_type": "stream",
          "text": [
            "****** RULES ********\n"
          ]
        }
      ],
      "source": [
        "import pandas as pd\n",
        "_output_path = \"./results/airfoil_self_noise/ruleset.csv\"\n",
        "\n",
        "\n",
        "print(\"****** RULES ********\")\n",
        "df_op = pd.read_csv(_output_path)\n",
        "df_op = df_op[df_op['test_precision'] > 90.0]\n",
        "df_op = df_op[df_op['label'] == 1]\n",
        "\n",
        "df_op.to_csv(\"./rules_5_1.csv\",index=False)\n",
        "\n",
        "ruleset = pd.read_csv(_output_path)\n",
        "ruleset = ruleset[ruleset['label'] == 1]\n",
        "## TRY SORTING BY TEST PRECISION?\n",
        "ruleset = ruleset.sort_values(by=['support'], ascending=False)\n",
        "ruleset = ruleset.reset_index()\n",
        "ruleset = ruleset[ruleset.index == 0]\n",
        "\n",
        "ruleset.to_csv(\"./rules_5_1_sup.csv\",index=False)\n",
        "\n",
        "\n",
        "df_op = pd.read_csv(_output_path)\n",
        "df_op = df_op[df_op['test_precision'] > 90.0]\n",
        "df_op = df_op[df_op['label'] == 0]\n",
        "\n",
        "\n",
        "df_op.to_csv(\"./rules_5_0.csv\",index=False)\n",
        "\n",
        "ruleset = pd.read_csv(_output_path)\n",
        "ruleset = ruleset[ruleset['label'] == 0]\n",
        "## TRY SORTING BY TEST PRECISION?\n",
        "ruleset = ruleset.sort_values(by=['support'], ascending=False)\n",
        "ruleset = ruleset.reset_index()\n",
        "ruleset = ruleset[ruleset.index == 0]\n",
        "\n",
        "ruleset.to_csv(\"./rules_5_0_sup.csv\",index=False)\n",
        "\n"
      ]
    },
    {
      "cell_type": "markdown",
      "metadata": {
        "id": "qZmZtXYu15P5"
      },
      "source": [
        "**Rules from layer 4 based on neuron values**"
      ]
    },
    {
      "cell_type": "code",
      "execution_count": null,
      "metadata": {
        "colab": {
          "base_uri": "https://localhost:8080/"
        },
        "id": "m2y9a77v1yg-",
        "outputId": "064d8cb4-534e-4bd3-e043-16fcea9dd461"
      },
      "outputs": [],
      "source": [
        "!python -m prophecy.main -m './dataset_models/airfoil_self_noise/model.h5' -wd './results/airfoil_self_noise/' analyze -tx ./x_train_npy.npy -ty ./y_train_npy.npy -vx ./x_test_npy.npy -vy ./y_test_npy.npy -layer 'layer_4_output_0' -type 3"
      ]
    },
    {
      "cell_type": "code",
      "execution_count": null,
      "metadata": {
        "colab": {
          "base_uri": "https://localhost:8080/"
        },
        "id": "qjnx8YwH2UJC",
        "outputId": "7507a079-1148-4cca-c88b-9ad309675574"
      },
      "outputs": [
        {
          "name": "stdout",
          "output_type": "stream",
          "text": [
            "****** RULES ********\n"
          ]
        }
      ],
      "source": [
        "import pandas as pd\n",
        "_output_path = \"./results/airfoil_self_noise/ruleset.csv\"\n",
        "\n",
        "\n",
        "print(\"****** RULES ********\")\n",
        "df_op = pd.read_csv(_output_path)\n",
        "df_op = df_op[df_op['test_precision'] > 90.0]\n",
        "df_op = df_op[df_op['label'] == 1]\n",
        "\n",
        "df_op.to_csv(\"./rules_4_1.csv\",index=False)\n",
        "\n",
        "ruleset = pd.read_csv(_output_path)\n",
        "ruleset = ruleset[ruleset['label'] == 1]\n",
        "## TRY SORTING BY TEST PRECISION?\n",
        "ruleset = ruleset.sort_values(by=['support'], ascending=False)\n",
        "ruleset = ruleset.reset_index()\n",
        "ruleset = ruleset[ruleset.index == 0]\n",
        "\n",
        "ruleset.to_csv(\"./rules_4_1_sup.csv\",index=False)\n",
        "\n",
        "\n",
        "df_op = pd.read_csv(_output_path)\n",
        "df_op = df_op[df_op['test_precision'] > 90.0]\n",
        "df_op = df_op[df_op['label'] == 0]\n",
        "\n",
        "\n",
        "df_op.to_csv(\"./rules_4_0.csv\",index=False)\n",
        "\n",
        "ruleset = pd.read_csv(_output_path)\n",
        "ruleset = ruleset[ruleset['label'] == 0]\n",
        "## TRY SORTING BY TEST PRECISION?\n",
        "ruleset = ruleset.sort_values(by=['support'], ascending=False)\n",
        "ruleset = ruleset.reset_index()\n",
        "ruleset = ruleset[ruleset.index == 0]\n",
        "\n",
        "ruleset.to_csv(\"./rules_4_0_sup.csv\",index=False)\n",
        "\n"
      ]
    },
    {
      "cell_type": "code",
      "execution_count": null,
      "metadata": {
        "colab": {
          "base_uri": "https://localhost:8080/"
        },
        "id": "pANE0ebP2sRZ",
        "outputId": "9c304f79-c2bb-4425-e0e3-54cc402bfc5e"
      },
      "outputs": [],
      "source": [
        "!python -m prophecy.main -m './dataset_models/airfoil_self_noise/model.h5' -wd './results/airfoil_self_noise/' analyze -tx ./x_train_npy.npy -ty ./y_train_npy.npy -vx ./x_test_npy.npy -vy ./y_test_npy.npy -layer 'layer_3_output_0' -type 3 -acts True"
      ]
    },
    {
      "cell_type": "code",
      "execution_count": null,
      "metadata": {
        "colab": {
          "base_uri": "https://localhost:8080/"
        },
        "id": "Z_B3Yaln2scn",
        "outputId": "1ef47d18-0cad-4810-bb88-6935eac4c58c"
      },
      "outputs": [
        {
          "name": "stdout",
          "output_type": "stream",
          "text": [
            "****** RULES ********\n"
          ]
        }
      ],
      "source": [
        "import pandas as pd\n",
        "_output_path = \"./results/airfoil_self_noise/ruleset.csv\"\n",
        "\n",
        "\n",
        "print(\"****** RULES ********\")\n",
        "df_op = pd.read_csv(_output_path)\n",
        "df_op = df_op[df_op['test_precision'] > 90.0]\n",
        "df_op = df_op[df_op['label'] == 1]\n",
        "\n",
        "df_op.to_csv(\"./rules_3_1.csv\",index=False)\n",
        "\n",
        "ruleset = pd.read_csv(_output_path)\n",
        "ruleset = ruleset[ruleset['label'] == 1]\n",
        "## TRY SORTING BY TEST PRECISION?\n",
        "ruleset = ruleset.sort_values(by=['support'], ascending=False)\n",
        "ruleset = ruleset.reset_index()\n",
        "ruleset = ruleset[ruleset.index == 0]\n",
        "\n",
        "ruleset.to_csv(\"./rules_3_1_sup.csv\",index=False)\n",
        "\n",
        "\n",
        "df_op = pd.read_csv(_output_path)\n",
        "df_op = df_op[df_op['test_precision'] > 90.0]\n",
        "df_op = df_op[df_op['label'] == 0]\n",
        "\n",
        "\n",
        "df_op.to_csv(\"./rules_3_0.csv\",index=False)\n",
        "\n",
        "ruleset = pd.read_csv(_output_path)\n",
        "ruleset = ruleset[ruleset['label'] == 0]\n",
        "## TRY SORTING BY TEST PRECISION?\n",
        "ruleset = ruleset.sort_values(by=['support'], ascending=False)\n",
        "ruleset = ruleset.reset_index()\n",
        "ruleset = ruleset[ruleset.index == 0]\n",
        "\n",
        "ruleset.to_csv(\"./rules_3_0_sup.csv\",index=False)\n",
        "\n"
      ]
    },
    {
      "cell_type": "code",
      "execution_count": null,
      "metadata": {
        "colab": {
          "base_uri": "https://localhost:8080/"
        },
        "id": "hwN9MViL230H",
        "outputId": "ded92140-5c99-4392-d410-ff7182207546"
      },
      "outputs": [],
      "source": [
        "!python -m prophecy.main -m './dataset_models/airfoil_self_noise/model.h5' -wd './results/airfoil_self_noise/' analyze -tx ./x_train_npy.npy -ty ./y_train_npy.npy -vx ./x_test_npy.npy -vy ./y_test_npy.npy -layer 'layer_2_output_0' -type 3"
      ]
    },
    {
      "cell_type": "code",
      "execution_count": null,
      "metadata": {
        "colab": {
          "base_uri": "https://localhost:8080/"
        },
        "id": "0NRSgD0d2_kv",
        "outputId": "43a5e866-84c0-4e52-daa8-ab6ea61aae95"
      },
      "outputs": [
        {
          "name": "stdout",
          "output_type": "stream",
          "text": [
            "****** RULES ********\n"
          ]
        }
      ],
      "source": [
        "import pandas as pd\n",
        "_output_path = \"./results/airfoil_self_noise/ruleset.csv\"\n",
        "\n",
        "\n",
        "print(\"****** RULES ********\")\n",
        "df_op = pd.read_csv(_output_path)\n",
        "df_op = df_op[df_op['test_precision'] > 90.0]\n",
        "df_op = df_op[df_op['label'] == 1]\n",
        "\n",
        "df_op.to_csv(\"./rules_2_1.csv\",index=False)\n",
        "\n",
        "ruleset = pd.read_csv(_output_path)\n",
        "ruleset = ruleset[ruleset['label'] == 1]\n",
        "## TRY SORTING BY TEST PRECISION?\n",
        "ruleset = ruleset.sort_values(by=['support'], ascending=False)\n",
        "ruleset = ruleset.reset_index()\n",
        "ruleset = ruleset[ruleset.index == 0]\n",
        "\n",
        "ruleset.to_csv(\"./rules_2_1_sup.csv\",index=False)\n",
        "\n",
        "\n",
        "df_op = pd.read_csv(_output_path)\n",
        "df_op = df_op[df_op['test_precision'] > 90.0]\n",
        "df_op = df_op[df_op['label'] == 0]\n",
        "\n",
        "\n",
        "df_op.to_csv(\"./rules_2_0.csv\",index=False)\n",
        "\n",
        "ruleset = pd.read_csv(_output_path)\n",
        "ruleset = ruleset[ruleset['label'] == 0]\n",
        "## TRY SORTING BY TEST PRECISION?\n",
        "ruleset = ruleset.sort_values(by=['support'], ascending=False)\n",
        "ruleset = ruleset.reset_index()\n",
        "ruleset = ruleset[ruleset.index == 0]\n",
        "\n",
        "ruleset.to_csv(\"./rules_2_0_sup.csv\",index=False)\n",
        "\n"
      ]
    },
    {
      "cell_type": "code",
      "execution_count": null,
      "metadata": {
        "colab": {
          "base_uri": "https://localhost:8080/"
        },
        "id": "zJNb4Jww3JGN",
        "outputId": "987af3a7-39a9-496a-e6f8-dd761e19ca33"
      },
      "outputs": [],
      "source": [
        "!python -m prophecy.main -m './dataset_models/airfoil_self_noise/model.h5' -wd './results/airfoil_self_noise/' analyze -tx ./x_train_npy.npy -ty ./y_train_npy.npy -vx ./x_test_npy.npy -vy ./y_test_npy.npy -layer 'layer_1_output_0' -type 3 -acts True"
      ]
    },
    {
      "cell_type": "code",
      "execution_count": null,
      "metadata": {
        "colab": {
          "base_uri": "https://localhost:8080/"
        },
        "id": "t5FPze6R3Tdi",
        "outputId": "663bbf66-3531-40d1-c30e-dbee757d4a91"
      },
      "outputs": [
        {
          "name": "stdout",
          "output_type": "stream",
          "text": [
            "****** RULES ********\n"
          ]
        }
      ],
      "source": [
        "import pandas as pd\n",
        "_output_path = \"./results/airfoil_self_noise/ruleset.csv\"\n",
        "\n",
        "\n",
        "print(\"****** RULES ********\")\n",
        "df_op = pd.read_csv(_output_path)\n",
        "df_op = df_op[df_op['test_precision'] > 90.0]\n",
        "df_op = df_op[df_op['label'] == 1]\n",
        "\n",
        "df_op.to_csv(\"./rules_1_1.csv\",index=False)\n",
        "\n",
        "ruleset = pd.read_csv(_output_path)\n",
        "ruleset = ruleset[ruleset['label'] == 1]\n",
        "## TRY SORTING BY TEST PRECISION?\n",
        "ruleset = ruleset.sort_values(by=['support'], ascending=False)\n",
        "ruleset = ruleset.reset_index()\n",
        "ruleset = ruleset[ruleset.index == 0]\n",
        "\n",
        "ruleset.to_csv(\"./rules_1_1_sup.csv\",index=False)\n",
        "\n",
        "\n",
        "df_op = pd.read_csv(_output_path)\n",
        "df_op = df_op[df_op['test_precision'] > 90.0]\n",
        "df_op = df_op[df_op['label'] == 0]\n",
        "\n",
        "\n",
        "df_op.to_csv(\"./rules_1_0.csv\",index=False)\n",
        "\n",
        "ruleset = pd.read_csv(_output_path)\n",
        "ruleset = ruleset[ruleset['label'] == 0]\n",
        "## TRY SORTING BY TEST PRECISION?\n",
        "ruleset = ruleset.sort_values(by=['support'], ascending=False)\n",
        "ruleset = ruleset.reset_index()\n",
        "ruleset = ruleset[ruleset.index == 0]\n",
        "\n",
        "ruleset.to_csv(\"./rules_1_0_sup.csv\",index=False)\n",
        "\n"
      ]
    },
    {
      "cell_type": "code",
      "execution_count": null,
      "metadata": {
        "colab": {
          "base_uri": "https://localhost:8080/"
        },
        "id": "tThgs7s13Jye",
        "outputId": "18bd6c18-ac80-498f-deaf-53192d234bb9"
      },
      "outputs": [],
      "source": [
        "!python -m prophecy.main -m './dataset_models/airfoil_self_noise/model.h5' -wd './results/airfoil_self_noise/' analyze -tx ./x_train_npy.npy -ty ./y_train_npy.npy -vx ./x_test_npy.npy -vy ./y_test_npy.npy -layer 'layer_0_output_0' -type 3"
      ]
    },
    {
      "cell_type": "code",
      "execution_count": null,
      "metadata": {
        "colab": {
          "base_uri": "https://localhost:8080/"
        },
        "id": "AI3qNJzb3XDr",
        "outputId": "5f7b838d-ea8d-47b6-c73f-7226f504e458"
      },
      "outputs": [
        {
          "name": "stdout",
          "output_type": "stream",
          "text": [
            "****** RULES ********\n"
          ]
        }
      ],
      "source": [
        "import pandas as pd\n",
        "_output_path = \"./results/airfoil_self_noise/ruleset.csv\"\n",
        "\n",
        "\n",
        "print(\"****** RULES ********\")\n",
        "df_op = pd.read_csv(_output_path)\n",
        "df_op = df_op[df_op['test_precision'] > 90.0]\n",
        "df_op = df_op[df_op['label'] == 1]\n",
        "\n",
        "df_op.to_csv(\"./rules_0_1.csv\",index=False)\n",
        "\n",
        "ruleset = pd.read_csv(_output_path)\n",
        "ruleset = ruleset[ruleset['label'] == 1]\n",
        "## TRY SORTING BY TEST PRECISION?\n",
        "ruleset = ruleset.sort_values(by=['support'], ascending=False)\n",
        "ruleset = ruleset.reset_index()\n",
        "ruleset = ruleset[ruleset.index == 0]\n",
        "\n",
        "ruleset.to_csv(\"./rules_0_1_sup.csv\",index=False)\n",
        "\n",
        "\n",
        "df_op = pd.read_csv(_output_path)\n",
        "df_op = df_op[df_op['test_precision'] > 90.0]\n",
        "df_op = df_op[df_op['label'] == 0]\n",
        "\n",
        "\n",
        "df_op.to_csv(\"./rules_0_0.csv\",index=False)\n",
        "\n",
        "ruleset = pd.read_csv(_output_path)\n",
        "ruleset = ruleset[ruleset['label'] == 0]\n",
        "## TRY SORTING BY TEST PRECISION?\n",
        "ruleset = ruleset.sort_values(by=['support'], ascending=False)\n",
        "ruleset = ruleset.reset_index()\n",
        "ruleset = ruleset[ruleset.index == 0]\n",
        "\n",
        "ruleset.to_csv(\"./rules_0_0_sup.csv\",index=False)\n",
        "\n"
      ]
    },
    {
      "cell_type": "code",
      "execution_count": null,
      "metadata": {
        "colab": {
          "base_uri": "https://localhost:8080/"
        },
        "id": "8bsUM5Nt3e5s",
        "outputId": "b4ae5b09-e337-4b7f-9bba-aa2b33be9a48"
      },
      "outputs": [],
      "source": [
        "\n",
        "df_op = pd.read_csv(\"./rules_0_0.csv\")\n",
        "df_op = df_op[df_op.index == 0]\n",
        "train_f1 = (df_op['train_f1']).values[0]\n",
        "test_f1 = (df_op['test_f1']).values[0]\n",
        "\n",
        "print(\"RULE 0 0:\", train_f1,\",\",test_f1)\n",
        "\n",
        "\n",
        "\n",
        "df_op = pd.read_csv(\"./rules_0_1.csv\")\n",
        "df_op = df_op[df_op.index == 0]\n",
        "train_f1 = (df_op['train_f1']).values[0]\n",
        "test_f1 = (df_op['test_f1']).values[0]\n",
        "\n",
        "print(\"RULE 0 1:\", train_f1,\",\",test_f1)\n",
        "\n",
        "df_op = pd.read_csv(\"./rules_1_0.csv\")\n",
        "df_op = df_op[df_op.index == 0]\n",
        "train_f1 = (df_op['train_f1']).values[0]\n",
        "test_f1 = (df_op['test_f1']).values[0]\n",
        "\n",
        "print(\"RULE 1 0:\", train_f1,\",\",test_f1)\n",
        "\n",
        "\n",
        "\n",
        "df_op = pd.read_csv(\"./rules_1_1.csv\")\n",
        "df_op = df_op[df_op.index == 0]\n",
        "train_f1 = (df_op['train_f1']).values[0]\n",
        "test_f1 = (df_op['test_f1']).values[0]\n",
        "\n",
        "print(\"RULE 1 1:\", train_f1,\",\",test_f1)\n",
        "\n",
        "df_op = pd.read_csv(\"./rules_2_0.csv\")\n",
        "df_op = df_op[df_op.index == 0]\n",
        "train_f1 = (df_op['train_f1']).values[0]\n",
        "test_f1 = (df_op['test_f1']).values[0]\n",
        "\n",
        "print(\"RULE 2 0:\", train_f1,\",\",test_f1)\n",
        "\n",
        "\n",
        "\n",
        "df_op = pd.read_csv(\"./rules_2_1.csv\")\n",
        "df_op = df_op[df_op.index == 0]\n",
        "train_f1 = (df_op['train_f1']).values[0]\n",
        "test_f1 = (df_op['test_f1']).values[0]\n",
        "\n",
        "print(\"RULE 2 1:\", train_f1,\",\",test_f1)\n",
        "\n",
        "df_op = pd.read_csv(\"./rules_3_0.csv\")\n",
        "df_op = df_op[df_op.index == 0]\n",
        "train_f1 = (df_op['train_f1']).values[0]\n",
        "test_f1 = (df_op['test_f1']).values[0]\n",
        "\n",
        "print(\"RULE 3 0:\", train_f1,\",\",test_f1)\n",
        "\n",
        "\n",
        "\n",
        "df_op = pd.read_csv(\"./rules_3_1.csv\")\n",
        "df_op = df_op[df_op.index == 0]\n",
        "train_f1 = (df_op['train_f1']).values[0]\n",
        "test_f1 = (df_op['test_f1']).values[0]\n",
        "\n",
        "print(\"RULE 3 1:\", train_f1,\",\",test_f1)\n",
        "\n",
        "df_op = pd.read_csv(\"./rules_4_0.csv\")\n",
        "df_op = df_op[df_op.index == 0]\n",
        "train_f1 = (df_op['train_f1']).values[0]\n",
        "test_f1 = (df_op['test_f1']).values[0]\n",
        "\n",
        "print(\"RULE 4 0:\", train_f1,\",\",test_f1)\n",
        "\n",
        "\n",
        "\n",
        "df_op = pd.read_csv(\"./rules_4_1.csv\")\n",
        "df_op = df_op[df_op.index == 0]\n",
        "train_f1 = (df_op['train_f1']).values[0]\n",
        "test_f1 = (df_op['test_f1']).values[0]\n",
        "\n",
        "print(\"RULE 4 1:\", train_f1,\",\",test_f1)\n",
        "\n",
        "df_op = pd.read_csv(\"./rules_5_0.csv\")\n",
        "df_op = df_op[df_op.index == 0]\n",
        "train_f1 = (df_op['train_f1']).values[0]\n",
        "test_f1 = (df_op['test_f1']).values[0]\n",
        "\n",
        "print(\"RULE 5 0:\", train_f1,\",\",test_f1)\n",
        "\n",
        "\n",
        "\n",
        "df_op = pd.read_csv(\"./rules_5_1.csv\")\n",
        "df_op = df_op[df_op.index == 0]\n",
        "train_f1 = (df_op['train_f1']).values[0]\n",
        "test_f1 = (df_op['test_f1']).values[0]\n",
        "\n",
        "print(\"RULE 5 1:\", train_f1,\",\",test_f1)\n",
        "\n"
      ]
    },
    {
      "cell_type": "markdown",
      "metadata": {
        "id": "s0V3EeoEBmS3"
      },
      "source": [
        "**PROVE RULES.**\n"
      ]
    },
    {
      "cell_type": "code",
      "execution_count": null,
      "metadata": {
        "colab": {
          "base_uri": "https://localhost:8080/",
          "height": 35
        },
        "id": "5Wz6r8w4wLgN",
        "outputId": "cc1e6a62-b76d-4dbd-96ea-1ba23cb81855"
      },
      "outputs": [
        {
          "data": {
            "application/vnd.google.colaboratory.intrinsic+json": {
              "type": "string"
            },
            "text/plain": [
              "'/usr/local/lib/python3.11/dist-packages/maraboupy//parsers/ONNXParser.py'"
            ]
          },
          "execution_count": 27,
          "metadata": {},
          "output_type": "execute_result"
        }
      ],
      "source": [
        "import shutil\n",
        "marabou_path = '/usr/local/lib/python3.11/dist-packages/maraboupy/'\n",
        "source_file1 = './dataset_models/MarabouNetworkONNX.py'\n",
        "source_file2 = './dataset_models/ONNXParser.py'\n",
        "    #destination_file1 = '/usr/local/lib/python3.11/dist-packages/maraboupy/MarabouNetworkONNX.py'\n",
        "destination_file1 = marabou_path + '/MarabouNetworkONNX.py'\n",
        "destination_file2 = marabou_path + '/parsers/ONNXParser.py'\n",
        "\n",
        "shutil.copy(source_file1, destination_file1)\n",
        "shutil.copy(source_file2, destination_file2)"
      ]
    },
    {
      "cell_type": "code",
      "execution_count": null,
      "metadata": {
        "id": "_NIhxPoaCNoh"
      },
      "outputs": [],
      "source": [
        "#CREATE A RULES DIRECTORY UNDER ./results/airfoil_self_noise/\n",
        "if (os.path.exists(\"./results/airfoil_self_noise/rules/\") == False):\n",
        "  os.makedirs(\"./results/airfoil_self_noise/rules\")\n",
        "\n",
        "!cp './rules_4_1_sup.csv' './results/airfoil_self_noise/rules/ruleset.csv'"
      ]
    },
    {
      "cell_type": "code",
      "execution_count": null,
      "metadata": {
        "colab": {
          "base_uri": "https://localhost:8080/"
        },
        "id": "eAy7ADZSCI0W",
        "outputId": "c429b0e4-6ede-4d1e-e0de-b83d6a592895"
      },
      "outputs": [],
      "source": [
        "!python -m prophecy.main -m './dataset_models/airfoil_self_noise/model.h5' -wd './results/airfoil_self_noise/rules/' prove -h"
      ]
    },
    {
      "cell_type": "markdown",
      "metadata": {
        "id": "FiIhwIwZEyQM"
      },
      "source": [
        "**Post-Condition:**\n",
        "\n",
        "**(min_val - MAE) <= F(X) <= (max_val + MAE)**\n",
        "\n",
        "**where**\n",
        "\n",
        "**min_val is the minimum value of the outputs of all inputs satisfying the rule.**\n",
        "\n",
        "**max_val is the maximum value of the outputs of all inputs satisfying the rule.**\n"
      ]
    },
    {
      "cell_type": "code",
      "execution_count": null,
      "metadata": {
        "colab": {
          "base_uri": "https://localhost:8080/"
        },
        "id": "6t5gBnxTW5Ns",
        "outputId": "117b6687-0932-4f58-dce4-806bffde7b75"
      },
      "outputs": [],
      "source": [
        "# CREAT CONSTS FILE\n",
        "import csv\n",
        "consts = []\n",
        "consts.append([0,'MIN',0.192])\n",
        "#consts.append([0,'MAX',0.192])\n",
        "\n",
        "with open('./results/airfoil_self_noise/rules/consts.csv', 'w') as f:\n",
        "    writer = csv.writer(f)\n",
        "    for indx in range(0,len(consts)):\n",
        "      writer.writerow(consts[indx])\n",
        "\n",
        "consts_read =[]\n",
        "with open('./results/airfoil_self_noise/rules/consts.csv', 'r') as file:\n",
        "    csv_reader = csv.reader(file)\n",
        "    for row in csv_reader:\n",
        "        print(row)\n",
        "        consts_read.append(row)\n",
        "\n",
        "print(\"CONSTS READ:\")\n",
        "print(np.shape(consts_read))\n",
        "\n"
      ]
    },
    {
      "cell_type": "markdown",
      "metadata": {
        "id": "M0Ye2WohweQx"
      },
      "source": [
        "**CHECK for counter-example to F(x) > MIN - MAE.**\n",
        "\n",
        "**if there exists an x for which, F(x) < MIN-0.192.**\n",
        "\n",
        "**Time-out: 20 mins**"
      ]
    },
    {
      "cell_type": "code",
      "execution_count": null,
      "metadata": {
        "colab": {
          "base_uri": "https://localhost:8080/"
        },
        "id": "m9dwKf4s3GOj",
        "outputId": "0aff240d-7fc9-490a-efdc-90bd7922d7d6"
      },
      "outputs": [],
      "source": [
        "import time\n",
        "start_time = time.time()\n",
        "!python -m prophecy.main -m './dataset_models/airfoil_self_noise/model.h5' -wd './results/airfoil_self_noise/rules/' prove -tx ./x_train_npy.npy -ty ./y_train_npy.npy -vx ./x_test_npy.npy -vy ./y_test_npy.npy -mp '/usr/local/lib/python3.11/dist-packages/maraboupy/' -onx_map './dataset_models/airfoil_self_noise/airfoil_onnx_map.csv' -onx './dataset_models/airfoil_self_noise/renamed_model.onnx' -cp './results/airfoil_self_noise/rules/consts.csv' -label 1\n",
        "elapsed_time1 =(time.time() - start_time)\n",
        "print(\"ELAPSED TIME:\", elapsed_time1)"
      ]
    },
    {
      "cell_type": "markdown",
      "metadata": {
        "id": "l_AGeIqHF8qz"
      },
      "source": [
        "**Post-Condition:**\n",
        "\n",
        "**(min_val - MAE) <= F(X) <= (max_val + MAE)**\n",
        "\n",
        "**where**\n",
        "\n",
        "**min_val is the minimum value of the outputs of all inputs satisfying the rule.**\n",
        "\n",
        "**max_val is the maximum value of the outputs of all inputs satisfying the rule.**\n"
      ]
    },
    {
      "cell_type": "code",
      "execution_count": null,
      "metadata": {
        "colab": {
          "base_uri": "https://localhost:8080/"
        },
        "id": "WDEhkTrGF8q0",
        "outputId": "db7a068b-2748-461a-cca8-499f636652da"
      },
      "outputs": [],
      "source": [
        "# CREAT CONSTS FILE\n",
        "import csv\n",
        "consts = []\n",
        "consts.append([0,'MAX',0.192])\n",
        "\n",
        "with open('./results/airfoil_self_noise/rules/consts.csv', 'w') as f:\n",
        "    writer = csv.writer(f)\n",
        "    for indx in range(0,len(consts)):\n",
        "      writer.writerow(consts[indx])\n",
        "\n",
        "consts_read =[]\n",
        "with open('./results/airfoil_self_noise/rules/consts.csv', 'r') as file:\n",
        "    csv_reader = csv.reader(file)\n",
        "    for row in csv_reader:\n",
        "        print(row)\n",
        "        consts_read.append(row)\n",
        "\n",
        "print(\"CONSTS READ:\")\n",
        "print(np.shape(consts_read))\n",
        "\n"
      ]
    },
    {
      "cell_type": "markdown",
      "metadata": {
        "id": "5Xqr9zgTw-9r"
      },
      "source": [
        "**CHECK for counter-example to F(x) < MAX + MAE**\n",
        "\n",
        "**if there exists an x for which, F(x) > MAX + 0.192**\n",
        "\n",
        "**Time-out: 20 mins**"
      ]
    },
    {
      "cell_type": "code",
      "execution_count": null,
      "metadata": {
        "colab": {
          "base_uri": "https://localhost:8080/"
        },
        "id": "YShajE2QMJGQ",
        "outputId": "b8a1a68a-600f-48db-a1f3-7c05fa7a7b01"
      },
      "outputs": [],
      "source": [
        "import time\n",
        "start_time = time.time()\n",
        "!python -m prophecy.main -m './dataset_models/airfoil_self_noise/model.h5' -wd './results/airfoil_self_noise/rules/' prove -tx ./x_train_npy.npy -ty ./y_train_npy.npy -vx ./x_test_npy.npy -vy ./y_test_npy.npy -mp '/usr/local/lib/python3.11/dist-packages/maraboupy/' -onx_map './dataset_models/airfoil_self_noise/airfoil_onnx_map.csv' -onx './dataset_models/airfoil_self_noise/renamed_model.onnx' -cp './results/airfoil_self_noise/rules/consts.csv' -label 1\n",
        "elapsed_time1 =(time.time() - start_time)\n",
        "print(\"ELAPSED TIME:\", elapsed_time1)"
      ]
    }
  ],
  "metadata": {
    "accelerator": "TPU",
    "colab": {
      "gpuType": "V28",
      "machine_shape": "hm",
      "provenance": []
    },
    "kernelspec": {
      "display_name": "Python 3",
      "name": "python3"
    },
    "language_info": {
      "name": "python"
    }
  },
  "nbformat": 4,
  "nbformat_minor": 0
}
